{
 "cells": [
  {
   "cell_type": "code",
   "execution_count": 3,
   "metadata": {},
   "outputs": [],
   "source": [
    "import numpy as np\n",
    "import pandas as pd\n",
    "import matplotlib.pyplot as plt"
   ]
  },
  {
   "cell_type": "code",
   "execution_count": 4,
   "metadata": {
    "scrolled": true
   },
   "outputs": [],
   "source": [
    "# imprting the dataset\n",
    "OGdataset = pd.read_csv('mockData.csv')\n",
    "dataset=OGdataset"
   ]
  },
  {
   "cell_type": "code",
   "execution_count": 5,
   "metadata": {
    "scrolled": false
   },
   "outputs": [],
   "source": [
    "##  Drop the columns where all elements are nan:\n",
    "dataset = dataset.dropna(axis=1, how='all')\n",
    "dataset = dataset.dropna(how='all')"
   ]
  },
  {
   "cell_type": "code",
   "execution_count": 6,
   "metadata": {},
   "outputs": [],
   "source": [
    "#still cannot get rid of NANs from rows so interim use the following\n",
    "dataset = dataset.iloc[:-4]"
   ]
  },
  {
   "cell_type": "code",
   "execution_count": 7,
   "metadata": {},
   "outputs": [
    {
     "data": {
      "text/html": [
       "<div>\n",
       "<style scoped>\n",
       "    .dataframe tbody tr th:only-of-type {\n",
       "        vertical-align: middle;\n",
       "    }\n",
       "\n",
       "    .dataframe tbody tr th {\n",
       "        vertical-align: top;\n",
       "    }\n",
       "\n",
       "    .dataframe thead th {\n",
       "        text-align: right;\n",
       "    }\n",
       "</style>\n",
       "<table border=\"1\" class=\"dataframe\">\n",
       "  <thead>\n",
       "    <tr style=\"text-align: right;\">\n",
       "      <th></th>\n",
       "      <th>Surname Forename</th>\n",
       "      <th>Edexcel En P1 Sec A - S3 Y11 Mock 2</th>\n",
       "      <th>Edexcel En P1 Sec A - S6 Y11 Mock 2</th>\n",
       "      <th>Edexcel En P1 Sec A - R Y11 Mock 2</th>\n",
       "      <th>Edexcel Gd En P1 Sec A Y11 Mock 2</th>\n",
       "      <th>Edexcel En P1 Sec B AO5.1 Y11 Mock 2</th>\n",
       "      <th>Edexcel En P1 Sec B AO6.1 Y11 Mock 2</th>\n",
       "      <th>Attain KS4 En - GCSE P1 Y11 Mock 2</th>\n",
       "      <th>Edexcel En P2 Sec A - S Y11 Mock 2</th>\n",
       "      <th>Edexcel En P2 Sec A - R1 Y11 Mock 2</th>\n",
       "      <th>...</th>\n",
       "      <th>Edexcel En P2 Sec A - C6 Y11 Mock 2</th>\n",
       "      <th>Edexcel En P2 Sec A - C14 Y11 Mock 2</th>\n",
       "      <th>Edexcel Gd En P2 Sec A Y11 Mock 2</th>\n",
       "      <th>Edexcel En P2 Sec B AO5.1 Y11 Mock 2</th>\n",
       "      <th>Edexcel En P2 Sec B AO6.1 Y11 Mock 2</th>\n",
       "      <th>Edexcel En P2 Sec B AO5.2 Y11 Mock 2</th>\n",
       "      <th>Attain KS4 En - GCSE P2 Y11 Mock 2</th>\n",
       "      <th>Attainment KS4 En - New G Y11 Mock 2</th>\n",
       "      <th>Apply6thFrm</th>\n",
       "      <th>Apply6thFrm_cat</th>\n",
       "    </tr>\n",
       "  </thead>\n",
       "  <tbody>\n",
       "    <tr>\n",
       "      <th>0</th>\n",
       "      <td>Pupil 1</td>\n",
       "      <td>3.0</td>\n",
       "      <td>3.0</td>\n",
       "      <td>8.0</td>\n",
       "      <td>3.0</td>\n",
       "      <td>11.0</td>\n",
       "      <td>7.0</td>\n",
       "      <td>4+</td>\n",
       "      <td>4.0</td>\n",
       "      <td>7.0</td>\n",
       "      <td>...</td>\n",
       "      <td>4.0</td>\n",
       "      <td>4.0</td>\n",
       "      <td>2.0</td>\n",
       "      <td>17.0</td>\n",
       "      <td>11.0</td>\n",
       "      <td>NaN</td>\n",
       "      <td>5-</td>\n",
       "      <td>4-</td>\n",
       "      <td>y</td>\n",
       "      <td>1</td>\n",
       "    </tr>\n",
       "    <tr>\n",
       "      <th>1</th>\n",
       "      <td>Pupil 2</td>\n",
       "      <td>3.0</td>\n",
       "      <td>0.0</td>\n",
       "      <td>0.0</td>\n",
       "      <td>1.0</td>\n",
       "      <td>9.0</td>\n",
       "      <td>4.0</td>\n",
       "      <td>2</td>\n",
       "      <td>3.0</td>\n",
       "      <td>0.0</td>\n",
       "      <td>...</td>\n",
       "      <td>0.0</td>\n",
       "      <td>0.0</td>\n",
       "      <td>1.0</td>\n",
       "      <td>8.0</td>\n",
       "      <td>5.0</td>\n",
       "      <td>NaN</td>\n",
       "      <td>2</td>\n",
       "      <td>1+</td>\n",
       "      <td>n</td>\n",
       "      <td>0</td>\n",
       "    </tr>\n",
       "    <tr>\n",
       "      <th>2</th>\n",
       "      <td>Pupil 3</td>\n",
       "      <td>3.0</td>\n",
       "      <td>4.0</td>\n",
       "      <td>10.0</td>\n",
       "      <td>4.0</td>\n",
       "      <td>14.0</td>\n",
       "      <td>9.0</td>\n",
       "      <td>6-</td>\n",
       "      <td>5.0</td>\n",
       "      <td>4.0</td>\n",
       "      <td>...</td>\n",
       "      <td>4.0</td>\n",
       "      <td>7.0</td>\n",
       "      <td>3.0</td>\n",
       "      <td>13.0</td>\n",
       "      <td>8.0</td>\n",
       "      <td>NaN</td>\n",
       "      <td>4</td>\n",
       "      <td>4</td>\n",
       "      <td>y</td>\n",
       "      <td>1</td>\n",
       "    </tr>\n",
       "    <tr>\n",
       "      <th>3</th>\n",
       "      <td>Pupil 4</td>\n",
       "      <td>3.0</td>\n",
       "      <td>2.0</td>\n",
       "      <td>3.0</td>\n",
       "      <td>2.0</td>\n",
       "      <td>3.0</td>\n",
       "      <td>5.0</td>\n",
       "      <td>2+</td>\n",
       "      <td>3.0</td>\n",
       "      <td>5.0</td>\n",
       "      <td>...</td>\n",
       "      <td>0.0</td>\n",
       "      <td>0.0</td>\n",
       "      <td>2.0</td>\n",
       "      <td>13.0</td>\n",
       "      <td>8.0</td>\n",
       "      <td>NaN</td>\n",
       "      <td>3</td>\n",
       "      <td>2+</td>\n",
       "      <td>n</td>\n",
       "      <td>0</td>\n",
       "    </tr>\n",
       "    <tr>\n",
       "      <th>4</th>\n",
       "      <td>Pupil 5</td>\n",
       "      <td>3.0</td>\n",
       "      <td>3.0</td>\n",
       "      <td>5.0</td>\n",
       "      <td>3.0</td>\n",
       "      <td>12.0</td>\n",
       "      <td>9.0</td>\n",
       "      <td>4</td>\n",
       "      <td>6.0</td>\n",
       "      <td>6.0</td>\n",
       "      <td>...</td>\n",
       "      <td>2.0</td>\n",
       "      <td>6.0</td>\n",
       "      <td>3.0</td>\n",
       "      <td>15.0</td>\n",
       "      <td>9.0</td>\n",
       "      <td>NaN</td>\n",
       "      <td>5-</td>\n",
       "      <td>4-</td>\n",
       "      <td>n</td>\n",
       "      <td>0</td>\n",
       "    </tr>\n",
       "  </tbody>\n",
       "</table>\n",
       "<p>5 rows × 21 columns</p>\n",
       "</div>"
      ],
      "text/plain": [
       "  Surname Forename  Edexcel En P1 Sec A - S3 Y11 Mock 2  \\\n",
       "0          Pupil 1                                  3.0   \n",
       "1          Pupil 2                                  3.0   \n",
       "2          Pupil 3                                  3.0   \n",
       "3          Pupil 4                                  3.0   \n",
       "4          Pupil 5                                  3.0   \n",
       "\n",
       "   Edexcel En P1 Sec A - S6 Y11 Mock 2  Edexcel En P1 Sec A - R Y11 Mock 2  \\\n",
       "0                                  3.0                                 8.0   \n",
       "1                                  0.0                                 0.0   \n",
       "2                                  4.0                                10.0   \n",
       "3                                  2.0                                 3.0   \n",
       "4                                  3.0                                 5.0   \n",
       "\n",
       "   Edexcel Gd En P1 Sec A Y11 Mock 2  Edexcel En P1 Sec B AO5.1 Y11 Mock 2  \\\n",
       "0                                3.0                                  11.0   \n",
       "1                                1.0                                   9.0   \n",
       "2                                4.0                                  14.0   \n",
       "3                                2.0                                   3.0   \n",
       "4                                3.0                                  12.0   \n",
       "\n",
       "   Edexcel En P1 Sec B AO6.1 Y11 Mock 2 Attain KS4 En - GCSE P1 Y11 Mock 2  \\\n",
       "0                                   7.0                                 4+   \n",
       "1                                   4.0                                  2   \n",
       "2                                   9.0                                 6-   \n",
       "3                                   5.0                                 2+   \n",
       "4                                   9.0                                  4   \n",
       "\n",
       "   Edexcel En P2 Sec A - S Y11 Mock 2  Edexcel En P2 Sec A - R1 Y11 Mock 2  \\\n",
       "0                                 4.0                                  7.0   \n",
       "1                                 3.0                                  0.0   \n",
       "2                                 5.0                                  4.0   \n",
       "3                                 3.0                                  5.0   \n",
       "4                                 6.0                                  6.0   \n",
       "\n",
       "        ...        Edexcel En P2 Sec A - C6 Y11 Mock 2  \\\n",
       "0       ...                                        4.0   \n",
       "1       ...                                        0.0   \n",
       "2       ...                                        4.0   \n",
       "3       ...                                        0.0   \n",
       "4       ...                                        2.0   \n",
       "\n",
       "   Edexcel En P2 Sec A - C14 Y11 Mock 2  Edexcel Gd En P2 Sec A Y11 Mock 2  \\\n",
       "0                                   4.0                                2.0   \n",
       "1                                   0.0                                1.0   \n",
       "2                                   7.0                                3.0   \n",
       "3                                   0.0                                2.0   \n",
       "4                                   6.0                                3.0   \n",
       "\n",
       "   Edexcel En P2 Sec B AO5.1 Y11 Mock 2  Edexcel En P2 Sec B AO6.1 Y11 Mock 2  \\\n",
       "0                                  17.0                                  11.0   \n",
       "1                                   8.0                                   5.0   \n",
       "2                                  13.0                                   8.0   \n",
       "3                                  13.0                                   8.0   \n",
       "4                                  15.0                                   9.0   \n",
       "\n",
       "   Edexcel En P2 Sec B AO5.2 Y11 Mock 2  Attain KS4 En - GCSE P2 Y11 Mock 2  \\\n",
       "0                                   NaN                                  5-   \n",
       "1                                   NaN                                   2   \n",
       "2                                   NaN                                   4   \n",
       "3                                   NaN                                   3   \n",
       "4                                   NaN                                  5-   \n",
       "\n",
       "  Attainment KS4 En - New G Y11 Mock 2 Apply6thFrm Apply6thFrm_cat  \n",
       "0                                   4-           y               1  \n",
       "1                                   1+           n               0  \n",
       "2                                    4           y               1  \n",
       "3                                   2+           n               0  \n",
       "4                                   4-           n               0  \n",
       "\n",
       "[5 rows x 21 columns]"
      ]
     },
     "execution_count": 7,
     "metadata": {},
     "output_type": "execute_result"
    }
   ],
   "source": [
    "### creating dummy data\n",
    "# X=pd.get_dummies(dataset['Apply6thFrm'])\n",
    "\n",
    "# sixthFrm=dataset.Apply6thFrm.astype(\"category\").cat.codes\n",
    "# type(sixthFrm)\n",
    "\n",
    "dataset[\"Apply6thFrm\"] = dataset[\"Apply6thFrm\"].astype('category')\n",
    "dataset.dtypes\n",
    "dataset[\"Apply6thFrm_cat\"] = dataset[\"Apply6thFrm\"].cat.codes\n",
    "dataset.head()"
   ]
  },
  {
   "cell_type": "code",
   "execution_count": 8,
   "metadata": {},
   "outputs": [],
   "source": [
    "#dataset"
   ]
  },
  {
   "cell_type": "code",
   "execution_count": 9,
   "metadata": {},
   "outputs": [],
   "source": [
    "#  custom function scaling the the raw marks into percent % for uniformity in comparison\n",
    "def scaleValue(value, OldMax, OldMin, NewMax, NewMin):\n",
    "    OldRange = (OldMax - OldMin)  \n",
    "    NewRange = (NewMax - NewMin)  \n",
    "    NewValue = (((value - OldMin) * NewRange) / OldRange) + NewMin\n",
    "    \n",
    "    return NewValue"
   ]
  },
  {
   "cell_type": "code",
   "execution_count": 10,
   "metadata": {},
   "outputs": [],
   "source": [
    "# renaming the features to improve understanding and output\n",
    "datasetCon=dataset.rename(index=str, columns={\"Edexcel En P1 Sec A - S3 Y11 Mock 2\": \"P1:Q1-M3\",\n",
    "                                              \"Edexcel En P1 Sec A - S6 Y11 Mock 2\": \"P1:Q2-M6\",\n",
    "                                              \"Edexcel En P1 Sec A - R Y11 Mock 2\":\"P1:Q3-M15\",\n",
    "                                              \"Edexcel Gd En P1 Sec A Y11 Mock 2\":\"GD Sec A Paper1\",\n",
    "                                              \"Edexcel En P1 Sec B AO5.1 Y11 Mock 2\":\"P1:Q1-M24\",\n",
    "                                              \"Edexcel En P1 Sec B AO6.1 Y11 Mock 2\":\"P1:Q2-M16\",\n",
    "                                              \"Attain KS4 En - GCSE P1 Y11 Mock 2\":\"Grade: Paper 1\",\n",
    "                                              \"Edexcel En P2 Sec A - S Y11 Mock 2\":\"P2:Q1-M6\",\n",
    "                                              \"Edexcel En P2 Sec A - R1 Y11 Mock 2\":\"P2:Q2-M15\",\n",
    "                                              \"Edexcel En P2 Sec A - R2 Y11 Mock 2\":\"P2 Q3:-M15\",\n",
    "                                              \"Edexcel En P2 Sec A - C6 Y11 Mock 2\":\"P2 Q4:M6\",\n",
    "                                              \"Edexcel En P2 Sec A - C14 Y11 Mock 2\":\"P2 Q5:-M14\",\n",
    "                                              \"Edexcel Gd En P2 Sec A Y11 Mock 2\":\"Paper 2 Secion A Grade\",\n",
    "                                              \"Edexcel En P2 Sec B AO5.1 Y11 Mock 2\":\"P2 Sec B Q1-M24\",\n",
    "                                              \"Edexcel En P2 Sec B AO6.1 Y11 Mock 2\":\"P2 Sec B Q2-M16\",\n",
    "                                              \"Attain KS4 En - GCSE P2 Y11 Mock 2\":\"Grade: Paper 2\",\n",
    "                                              \"Attainment KS4 En - New G Y11 Mock 2\":\"OVERALL GRADE\"})\n"
   ]
  },
  {
   "cell_type": "code",
   "execution_count": 11,
   "metadata": {},
   "outputs": [
    {
     "name": "stderr",
     "output_type": "stream",
     "text": [
      "C:\\Users\\Demetrios\\Anaconda3\\lib\\site-packages\\pandas\\core\\indexing.py:189: SettingWithCopyWarning: \n",
      "A value is trying to be set on a copy of a slice from a DataFrame\n",
      "\n",
      "See the caveats in the documentation: http://pandas.pydata.org/pandas-docs/stable/indexing.html#indexing-view-versus-copy\n",
      "  self._setitem_with_indexer(indexer, value)\n"
     ]
    }
   ],
   "source": [
    "# converting 4+,4,4- to floats to be mapped against 9-1 grading\n",
    "# this means adding .075 to the 5+ -> 5.75\n",
    "for i in range(0, len(datasetCon['Grade: Paper 1'])):\n",
    "    if ('+') in datasetCon['Grade: Paper 1'].iloc[i]:\n",
    "        datasetCon['Grade: Paper 1'].iloc[i] = int(datasetCon['Grade: Paper 1'].iloc[i][0]) + 0.75\n",
    "    elif ('-') in datasetCon['Grade: Paper 1'].iloc[i]:\n",
    "        datasetCon['Grade: Paper 1'].iloc[i] = int(datasetCon['Grade: Paper 1'].iloc[i][0]) + 0.25\n",
    "    else:\n",
    "        datasetCon['Grade: Paper 1'].iloc[i] = int(datasetCon['Grade: Paper 1'].iloc[i])\n",
    "        \n",
    "for i in range(0, len(datasetCon['Grade: Paper 1'])):\n",
    "    if ('+') in datasetCon['Grade: Paper 2'].iloc[i]:\n",
    "        datasetCon['Grade: Paper 2'].iloc[i] = int(datasetCon['Grade: Paper 2'].iloc[i][0]) + 0.75\n",
    "    elif ('-') in datasetCon['Grade: Paper 2'].iloc[i]:\n",
    "        datasetCon['Grade: Paper 2'].iloc[i] = int(datasetCon['Grade: Paper 2'].iloc[i][0]) + 0.25\n",
    "    else:\n",
    "        datasetCon['Grade: Paper 2'].iloc[i] = int(datasetCon['Grade: Paper 2'].iloc[i])\n",
    "        \n",
    "for i in range(0, len(datasetCon['OVERALL GRADE'])):\n",
    "    if ('+') in datasetCon['OVERALL GRADE'].iloc[i]:\n",
    "        datasetCon['OVERALL GRADE'].iloc[i] = int(datasetCon['OVERALL GRADE'].iloc[i][0]) + 0.75\n",
    "    elif ('-') in datasetCon['OVERALL GRADE'].iloc[i]:\n",
    "        datasetCon['OVERALL GRADE'].iloc[i] = int(datasetCon['OVERALL GRADE'].iloc[i][0]) + 0.25\n",
    "    else:\n",
    "        datasetCon['OVERALL GRADE'].iloc[i] = int(datasetCon['OVERALL GRADE'].iloc[i])"
   ]
  },
  {
   "cell_type": "code",
   "execution_count": 12,
   "metadata": {},
   "outputs": [],
   "source": [
    "# datasetCon"
   ]
  },
  {
   "cell_type": "markdown",
   "metadata": {},
   "source": [
    "## Presenting findings:"
   ]
  },
  {
   "cell_type": "markdown",
   "metadata": {},
   "source": [
    "### Compare overall Paper 1 v Paper 2 v Overall Grade"
   ]
  },
  {
   "cell_type": "code",
   "execution_count": 13,
   "metadata": {},
   "outputs": [
    {
     "data": {
      "image/png": "[encoded data removed]",
      "text/plain": [
       "<Figure size 432x288 with 1 Axes>"
      ]
     },
     "metadata": {},
     "output_type": "display_data"
    }
   ],
   "source": [
    "# creating a boxplot based on 3 features to compare\n",
    "\n",
    "gradeBreakdown=[\"Grade: Paper 1\",\"Grade: Paper 2\",\"OVERALL GRADE\"]\n",
    "\n",
    "import seaborn as sns\n",
    "%matplotlib inline\n",
    "\n",
    "sns.set_style(\"darkgrid\")\n",
    "bplot = sns.boxplot(\n",
    "                 data=datasetCon[gradeBreakdown],\n",
    "                 width=0.5,\n",
    "                 palette=\"colorblind\").set_title(\"PAPER 1   +  PAPER 2  + OVERALL GRADE\")\n"
   ]
  },
  {
   "cell_type": "code",
   "execution_count": 14,
   "metadata": {},
   "outputs": [
    {
     "data": {
      "text/html": [
       "<div>\n",
       "<style scoped>\n",
       "    .dataframe tbody tr th:only-of-type {\n",
       "        vertical-align: middle;\n",
       "    }\n",
       "\n",
       "    .dataframe tbody tr th {\n",
       "        vertical-align: top;\n",
       "    }\n",
       "\n",
       "    .dataframe thead th {\n",
       "        text-align: right;\n",
       "    }\n",
       "</style>\n",
       "<table border=\"1\" class=\"dataframe\">\n",
       "  <thead>\n",
       "    <tr style=\"text-align: right;\">\n",
       "      <th></th>\n",
       "      <th>Grade: Paper 1</th>\n",
       "      <th>Grade: Paper 2</th>\n",
       "      <th>OVERALL GRADE</th>\n",
       "    </tr>\n",
       "  </thead>\n",
       "  <tbody>\n",
       "    <tr>\n",
       "      <th>count</th>\n",
       "      <td>78.0</td>\n",
       "      <td>78.0</td>\n",
       "      <td>78.00</td>\n",
       "    </tr>\n",
       "    <tr>\n",
       "      <th>unique</th>\n",
       "      <td>22.0</td>\n",
       "      <td>17.0</td>\n",
       "      <td>18.00</td>\n",
       "    </tr>\n",
       "    <tr>\n",
       "      <th>top</th>\n",
       "      <td>5.0</td>\n",
       "      <td>3.0</td>\n",
       "      <td>4.25</td>\n",
       "    </tr>\n",
       "    <tr>\n",
       "      <th>freq</th>\n",
       "      <td>10.0</td>\n",
       "      <td>9.0</td>\n",
       "      <td>15.00</td>\n",
       "    </tr>\n",
       "  </tbody>\n",
       "</table>\n",
       "</div>"
      ],
      "text/plain": [
       "        Grade: Paper 1  Grade: Paper 2  OVERALL GRADE\n",
       "count             78.0            78.0          78.00\n",
       "unique            22.0            17.0          18.00\n",
       "top                5.0             3.0           4.25\n",
       "freq              10.0             9.0          15.00"
      ]
     },
     "execution_count": 14,
     "metadata": {},
     "output_type": "execute_result"
    }
   ],
   "source": [
    "datasetCon[[\"Grade: Paper 1\",\"Grade: Paper 2\",\"OVERALL GRADE\"]].describe()"
   ]
  },
  {
   "cell_type": "code",
   "execution_count": 15,
   "metadata": {},
   "outputs": [
    {
     "data": {
      "image/png": "[encoded data removed]",
      "text/plain": [
       "<Figure size 432x288 with 1 Axes>"
      ]
     },
     "metadata": {},
     "output_type": "display_data"
    }
   ],
   "source": [
    "# creating a scatter plot of Paper 1 vs Overall grade\n",
    "og=datasetCon['Grade: Paper 1']\n",
    "y_col=datasetCon['OVERALL GRADE']\n",
    "plt.scatter(og,y_col,s=60, c='red', marker='^') \n",
    "\n",
    "plt.title(\"Grade: Paper 1 vs. OVERALL GRADE \")\n",
    "plt.xlabel('Grade: Paper 1')\n",
    "plt.ylabel('OVERALL GRADE')\n",
    "plt.show()"
   ]
  },
  {
   "cell_type": "code",
   "execution_count": 16,
   "metadata": {},
   "outputs": [
    {
     "data": {
      "image/png": "[encoded data removed]",
      "text/plain": [
       "<Figure size 432x288 with 1 Axes>"
      ]
     },
     "metadata": {},
     "output_type": "display_data"
    }
   ],
   "source": [
    "# creating a scatter plot of Paper 2vs Overall grade\n",
    "og=datasetCon['Grade: Paper 2']\n",
    "y_col=datasetCon['OVERALL GRADE']\n",
    "plt.scatter(og,y_col,s=60, c='red', marker='^')\n",
    "\n",
    "plt.title(\"Grade: Paper 2 vs. OVERALL GRADE \")\n",
    "plt.xlabel('Grade: Paper 2')\n",
    "plt.ylabel('OVERALL GRADE')\n",
    "plt.show()"
   ]
  },
  {
   "cell_type": "code",
   "execution_count": 17,
   "metadata": {},
   "outputs": [],
   "source": [
    "# --- Check for accuracy using zip \n",
    "# for a,b in zip(datasetCon['Grade: Paper 2'],datasetCon['OVERALL GRADE']):\n",
    "#     print(a,\"---\",b)"
   ]
  },
  {
   "cell_type": "markdown",
   "metadata": {},
   "source": [
    "## Breakdown for each question:"
   ]
  },
  {
   "cell_type": "code",
   "execution_count": 18,
   "metadata": {},
   "outputs": [
    {
     "data": {
      "text/plain": [
       "21"
      ]
     },
     "execution_count": 18,
     "metadata": {},
     "output_type": "execute_result"
    }
   ],
   "source": [
    "# each question has a different weighting or max mark so\n",
    "# in order to compare each we must scale the marks to a %\n",
    "# we will call and send arguments to the -def scaleValue() function \n",
    "datasetCon['P1:Q1-M3']=datasetCon['P1:Q1-M3'].apply(scaleValue, args=(3,0,100,0))\n",
    "datasetCon['P1:Q2-M6']=datasetCon['P1:Q2-M6'].apply(scaleValue, args=(6,0,100,0))\n",
    "datasetCon['P1:Q3-M15']=datasetCon['P1:Q3-M15'].apply(scaleValue, args=(15,0,100,0))\n",
    "datasetCon['P1:Q1-M24']=datasetCon['P1:Q1-M24'].apply(scaleValue, args=(24,0,100,0))\n",
    "datasetCon['P1:Q2-M16']=datasetCon['P1:Q2-M16'].apply(scaleValue, args=(16,0,100,0))\n",
    "datasetCon['P2:Q1-M6']=datasetCon['P2:Q1-M6'].apply(scaleValue, args=(6,0,100,0))\n",
    "datasetCon['P2:Q2-M15']=datasetCon['P2:Q2-M15'].apply(scaleValue, args=(15,0,100,0))\n",
    "datasetCon['P2 Q4:M6']=datasetCon['P2 Q4:M6'].apply(scaleValue, args=(6,0,100,0))\n",
    "datasetCon['P2 Q5:-M14']=datasetCon['P2 Q5:-M14'].apply(scaleValue, args=(14,0,100,0))\n",
    "datasetCon['P2 Sec B Q1-M24']=datasetCon['P2 Sec B Q1-M24'].apply(scaleValue, args=(24,0,100,0))\n",
    "datasetCon['P2 Sec B Q2-M16']=datasetCon['P2 Sec B Q2-M16'].apply(scaleValue, args=(16,0,100,0))\n",
    "len(datasetCon.columns)"
   ]
  },
  {
   "cell_type": "code",
   "execution_count": 19,
   "metadata": {},
   "outputs": [
    {
     "data": {
      "text/plain": [
       "Text(0, 0.5, '%Percent')"
      ]
     },
     "execution_count": 19,
     "metadata": {},
     "output_type": "execute_result"
    },
    {
     "data": {
      "image/png": "[encoded data removed]",
      "text/plain": [
       "<Figure size 1440x936 with 1 Axes>"
      ]
     },
     "metadata": {},
     "output_type": "display_data"
    }
   ],
   "source": [
    "# creatin a boxplot based on a list of features -colsofinterest-\n",
    "# this allows a clear comparison and relational picture to be drawn\n",
    "colsofinterest =['P1:Q1-M3', 'P1:Q2-M6','P1:Q3-M15','P1:Q1-M24','P1:Q2-M16', 'P2:Q1-M6', 'P2:Q2-M15','P2 Q4:M6','P2 Q5:-M14','P2 Sec B Q1-M24','P2 Sec B Q2-M16']\n",
    "q=datasetCon[colsofinterest].boxplot(figsize = (20,13))\n",
    "q.set_title('Breakdown by Question')\n",
    "q.set_xlabel(\"Each Question\")\n",
    "q.set_ylabel('%Percent')\n"
   ]
  },
  {
   "cell_type": "code",
   "execution_count": 20,
   "metadata": {},
   "outputs": [],
   "source": [
    "## P2 Q5 M14 -- TIMING"
   ]
  },
  {
   "cell_type": "code",
   "execution_count": 26,
   "metadata": {},
   "outputs": [
    {
     "data": {
      "image/png": "[encoded data removed]",
      "text/plain": [
       "<Figure size 432x288 with 1 Axes>"
      ]
     },
     "metadata": {},
     "output_type": "display_data"
    }
   ],
   "source": [
    "# boxplpot seaborn version so we import seaborn for nicer output\n",
    "import seaborn as sns\n",
    "%matplotlib inline\n",
    "\n",
    "# MATPLOT Version\n",
    "# datasetCon[colsofinterest].boxplot(figsize = (20,13))\n",
    "\n",
    "# SEABORN VErsion\n",
    "\n",
    "sns.set_style(\"darkgrid\")\n",
    "bplot = sns.boxplot(\n",
    "                 data=datasetCon[colsofinterest],\n",
    "                 width=0.5,\n",
    "                 palette=\"colorblind\").set_title(\"Breakdown by each question\")"
   ]
  },
  {
   "cell_type": "code",
   "execution_count": 27,
   "metadata": {},
   "outputs": [
    {
     "data": {
      "text/html": [
       "<div>\n",
       "<style scoped>\n",
       "    .dataframe tbody tr th:only-of-type {\n",
       "        vertical-align: middle;\n",
       "    }\n",
       "\n",
       "    .dataframe tbody tr th {\n",
       "        vertical-align: top;\n",
       "    }\n",
       "\n",
       "    .dataframe thead th {\n",
       "        text-align: right;\n",
       "    }\n",
       "</style>\n",
       "<table border=\"1\" class=\"dataframe\">\n",
       "  <thead>\n",
       "    <tr style=\"text-align: right;\">\n",
       "      <th></th>\n",
       "      <th>P1:Q1-M3</th>\n",
       "      <th>P1:Q2-M6</th>\n",
       "      <th>P1:Q3-M15</th>\n",
       "      <th>P1:Q1-M24</th>\n",
       "      <th>P1:Q2-M16</th>\n",
       "      <th>P2:Q1-M6</th>\n",
       "      <th>P2:Q2-M15</th>\n",
       "      <th>P2 Q4:M6</th>\n",
       "      <th>P2 Q5:-M14</th>\n",
       "      <th>P2 Sec B Q1-M24</th>\n",
       "      <th>P2 Sec B Q2-M16</th>\n",
       "    </tr>\n",
       "  </thead>\n",
       "  <tbody>\n",
       "    <tr>\n",
       "      <th>count</th>\n",
       "      <td>78.000000</td>\n",
       "      <td>78.000000</td>\n",
       "      <td>78.000000</td>\n",
       "      <td>78.000000</td>\n",
       "      <td>78.000000</td>\n",
       "      <td>78.000000</td>\n",
       "      <td>78.000000</td>\n",
       "      <td>78.000000</td>\n",
       "      <td>78.000000</td>\n",
       "      <td>78.000000</td>\n",
       "      <td>78.000000</td>\n",
       "    </tr>\n",
       "    <tr>\n",
       "      <th>mean</th>\n",
       "      <td>97.435897</td>\n",
       "      <td>62.820513</td>\n",
       "      <td>57.521368</td>\n",
       "      <td>54.113248</td>\n",
       "      <td>52.403846</td>\n",
       "      <td>83.547009</td>\n",
       "      <td>44.957265</td>\n",
       "      <td>66.452991</td>\n",
       "      <td>41.483516</td>\n",
       "      <td>56.677350</td>\n",
       "      <td>53.285256</td>\n",
       "    </tr>\n",
       "    <tr>\n",
       "      <th>std</th>\n",
       "      <td>8.939803</td>\n",
       "      <td>23.250173</td>\n",
       "      <td>23.394699</td>\n",
       "      <td>18.248693</td>\n",
       "      <td>17.365870</td>\n",
       "      <td>17.092734</td>\n",
       "      <td>16.203465</td>\n",
       "      <td>28.362423</td>\n",
       "      <td>23.025174</td>\n",
       "      <td>13.335020</td>\n",
       "      <td>13.276390</td>\n",
       "    </tr>\n",
       "    <tr>\n",
       "      <th>min</th>\n",
       "      <td>66.666667</td>\n",
       "      <td>0.000000</td>\n",
       "      <td>0.000000</td>\n",
       "      <td>0.000000</td>\n",
       "      <td>0.000000</td>\n",
       "      <td>50.000000</td>\n",
       "      <td>0.000000</td>\n",
       "      <td>0.000000</td>\n",
       "      <td>0.000000</td>\n",
       "      <td>12.500000</td>\n",
       "      <td>25.000000</td>\n",
       "    </tr>\n",
       "    <tr>\n",
       "      <th>25%</th>\n",
       "      <td>100.000000</td>\n",
       "      <td>50.000000</td>\n",
       "      <td>46.666667</td>\n",
       "      <td>45.833333</td>\n",
       "      <td>43.750000</td>\n",
       "      <td>66.666667</td>\n",
       "      <td>33.333333</td>\n",
       "      <td>50.000000</td>\n",
       "      <td>28.571429</td>\n",
       "      <td>50.000000</td>\n",
       "      <td>43.750000</td>\n",
       "    </tr>\n",
       "    <tr>\n",
       "      <th>50%</th>\n",
       "      <td>100.000000</td>\n",
       "      <td>66.666667</td>\n",
       "      <td>53.333333</td>\n",
       "      <td>50.000000</td>\n",
       "      <td>56.250000</td>\n",
       "      <td>83.333333</td>\n",
       "      <td>46.666667</td>\n",
       "      <td>66.666667</td>\n",
       "      <td>35.714286</td>\n",
       "      <td>54.166667</td>\n",
       "      <td>50.000000</td>\n",
       "    </tr>\n",
       "    <tr>\n",
       "      <th>75%</th>\n",
       "      <td>100.000000</td>\n",
       "      <td>83.333333</td>\n",
       "      <td>73.333333</td>\n",
       "      <td>62.500000</td>\n",
       "      <td>62.500000</td>\n",
       "      <td>100.000000</td>\n",
       "      <td>53.333333</td>\n",
       "      <td>83.333333</td>\n",
       "      <td>57.142857</td>\n",
       "      <td>66.666667</td>\n",
       "      <td>62.500000</td>\n",
       "    </tr>\n",
       "    <tr>\n",
       "      <th>max</th>\n",
       "      <td>100.000000</td>\n",
       "      <td>100.000000</td>\n",
       "      <td>100.000000</td>\n",
       "      <td>91.666667</td>\n",
       "      <td>87.500000</td>\n",
       "      <td>100.000000</td>\n",
       "      <td>80.000000</td>\n",
       "      <td>100.000000</td>\n",
       "      <td>92.857143</td>\n",
       "      <td>79.166667</td>\n",
       "      <td>81.250000</td>\n",
       "    </tr>\n",
       "  </tbody>\n",
       "</table>\n",
       "</div>"
      ],
      "text/plain": [
       "         P1:Q1-M3    P1:Q2-M6   P1:Q3-M15  P1:Q1-M24  P1:Q2-M16    P2:Q1-M6  \\\n",
       "count   78.000000   78.000000   78.000000  78.000000  78.000000   78.000000   \n",
       "mean    97.435897   62.820513   57.521368  54.113248  52.403846   83.547009   \n",
       "std      8.939803   23.250173   23.394699  18.248693  17.365870   17.092734   \n",
       "min     66.666667    0.000000    0.000000   0.000000   0.000000   50.000000   \n",
       "25%    100.000000   50.000000   46.666667  45.833333  43.750000   66.666667   \n",
       "50%    100.000000   66.666667   53.333333  50.000000  56.250000   83.333333   \n",
       "75%    100.000000   83.333333   73.333333  62.500000  62.500000  100.000000   \n",
       "max    100.000000  100.000000  100.000000  91.666667  87.500000  100.000000   \n",
       "\n",
       "       P2:Q2-M15    P2 Q4:M6  P2 Q5:-M14  P2 Sec B Q1-M24  P2 Sec B Q2-M16  \n",
       "count  78.000000   78.000000   78.000000        78.000000        78.000000  \n",
       "mean   44.957265   66.452991   41.483516        56.677350        53.285256  \n",
       "std    16.203465   28.362423   23.025174        13.335020        13.276390  \n",
       "min     0.000000    0.000000    0.000000        12.500000        25.000000  \n",
       "25%    33.333333   50.000000   28.571429        50.000000        43.750000  \n",
       "50%    46.666667   66.666667   35.714286        54.166667        50.000000  \n",
       "75%    53.333333   83.333333   57.142857        66.666667        62.500000  \n",
       "max    80.000000  100.000000   92.857143        79.166667        81.250000  "
      ]
     },
     "execution_count": 27,
     "metadata": {},
     "output_type": "execute_result"
    }
   ],
   "source": [
    "# a tabular breakdown for each question\n",
    "datasetCon[colsofinterest].describe()"
   ]
  },
  {
   "cell_type": "markdown",
   "metadata": {},
   "source": [
    "## Comparing writing Questions from Paper 1 vs. Paper 2"
   ]
  },
  {
   "cell_type": "code",
   "execution_count": 28,
   "metadata": {},
   "outputs": [
    {
     "name": "stderr",
     "output_type": "stream",
     "text": [
      "C:\\Users\\Demetrios\\Anaconda3\\lib\\site-packages\\ipykernel_launcher.py:13: SettingWithCopyWarning: \n",
      "A value is trying to be set on a copy of a slice from a DataFrame.\n",
      "Try using .loc[row_indexer,col_indexer] = value instead\n",
      "\n",
      "See the caveats in the documentation: http://pandas.pydata.org/pandas-docs/stable/indexing.html#indexing-view-versus-copy\n",
      "  del sys.path[0]\n",
      "C:\\Users\\Demetrios\\Anaconda3\\lib\\site-packages\\ipykernel_launcher.py:14: SettingWithCopyWarning: \n",
      "A value is trying to be set on a copy of a slice from a DataFrame.\n",
      "Try using .loc[row_indexer,col_indexer] = value instead\n",
      "\n",
      "See the caveats in the documentation: http://pandas.pydata.org/pandas-docs/stable/indexing.html#indexing-view-versus-copy\n",
      "  \n"
     ]
    },
    {
     "data": {
      "text/html": [
       "<div>\n",
       "<style scoped>\n",
       "    .dataframe tbody tr th:only-of-type {\n",
       "        vertical-align: middle;\n",
       "    }\n",
       "\n",
       "    .dataframe tbody tr th {\n",
       "        vertical-align: top;\n",
       "    }\n",
       "\n",
       "    .dataframe thead th {\n",
       "        text-align: right;\n",
       "    }\n",
       "</style>\n",
       "<table border=\"1\" class=\"dataframe\">\n",
       "  <thead>\n",
       "    <tr style=\"text-align: right;\">\n",
       "      <th></th>\n",
       "      <th>Paper 1 Evaluation</th>\n",
       "      <th>Paper 2 Evaluation</th>\n",
       "    </tr>\n",
       "  </thead>\n",
       "  <tbody>\n",
       "    <tr>\n",
       "      <th>0</th>\n",
       "      <td>44.791667</td>\n",
       "      <td>69.791667</td>\n",
       "    </tr>\n",
       "    <tr>\n",
       "      <th>1</th>\n",
       "      <td>31.250000</td>\n",
       "      <td>32.291667</td>\n",
       "    </tr>\n",
       "  </tbody>\n",
       "</table>\n",
       "</div>"
      ],
      "text/plain": [
       "   Paper 1 Evaluation  Paper 2 Evaluation\n",
       "0           44.791667           69.791667\n",
       "1           31.250000           32.291667"
      ]
     },
     "execution_count": 28,
     "metadata": {},
     "output_type": "execute_result"
    }
   ],
   "source": [
    "# comparing student performance between evaluation of paper 1 + 2\n",
    "\n",
    "# since the evaluate section of each paper is based on 2 questions\n",
    "# first we create a copy dataset \n",
    "# we add Q1+2 of section B together\n",
    "# and we add 2 new columns to the datastrucure which are a calculation of existing columns\n",
    "# finally we are printing \n",
    "\n",
    "colsofinterestEvaluate =['P1:Q1-M24','P1:Q2-M16','P2 Sec B Q1-M24','P2 Sec B Q2-M16']\n",
    "\n",
    "datasetEval=datasetCon[colsofinterestEvaluate]\n",
    "# these are appended to the end of datasetEval\n",
    "datasetEval['Paper 1 Evaluation'] = (datasetEval[\"P1:Q1-M24\"] + datasetEval[\"P1:Q2-M16\"])/2\n",
    "datasetEval['Paper 2 Evaluation'] = (datasetEval[\"P2 Sec B Q1-M24\"] + datasetEval[\"P2 Sec B Q2-M16\"])/2\n",
    "\n",
    "# now we just print the new columns of interest\n",
    "datasetEval.iloc[:2,4:]"
   ]
  },
  {
   "cell_type": "code",
   "execution_count": 29,
   "metadata": {},
   "outputs": [
    {
     "data": {
      "text/html": [
       "<div>\n",
       "<style scoped>\n",
       "    .dataframe tbody tr th:only-of-type {\n",
       "        vertical-align: middle;\n",
       "    }\n",
       "\n",
       "    .dataframe tbody tr th {\n",
       "        vertical-align: top;\n",
       "    }\n",
       "\n",
       "    .dataframe thead th {\n",
       "        text-align: right;\n",
       "    }\n",
       "</style>\n",
       "<table border=\"1\" class=\"dataframe\">\n",
       "  <thead>\n",
       "    <tr style=\"text-align: right;\">\n",
       "      <th></th>\n",
       "      <th>Paper 1 Evaluation</th>\n",
       "      <th>Paper 2 Evaluation</th>\n",
       "    </tr>\n",
       "  </thead>\n",
       "  <tbody>\n",
       "    <tr>\n",
       "      <th>count</th>\n",
       "      <td>78.000000</td>\n",
       "      <td>78.000000</td>\n",
       "    </tr>\n",
       "    <tr>\n",
       "      <th>mean</th>\n",
       "      <td>53.258547</td>\n",
       "      <td>54.981303</td>\n",
       "    </tr>\n",
       "    <tr>\n",
       "      <th>std</th>\n",
       "      <td>17.126502</td>\n",
       "      <td>12.653111</td>\n",
       "    </tr>\n",
       "    <tr>\n",
       "      <th>min</th>\n",
       "      <td>0.000000</td>\n",
       "      <td>29.166667</td>\n",
       "    </tr>\n",
       "    <tr>\n",
       "      <th>25%</th>\n",
       "      <td>44.791667</td>\n",
       "      <td>46.875000</td>\n",
       "    </tr>\n",
       "    <tr>\n",
       "      <th>50%</th>\n",
       "      <td>52.083333</td>\n",
       "      <td>52.083333</td>\n",
       "    </tr>\n",
       "    <tr>\n",
       "      <th>75%</th>\n",
       "      <td>62.500000</td>\n",
       "      <td>63.281250</td>\n",
       "    </tr>\n",
       "    <tr>\n",
       "      <th>max</th>\n",
       "      <td>89.583333</td>\n",
       "      <td>80.208333</td>\n",
       "    </tr>\n",
       "  </tbody>\n",
       "</table>\n",
       "</div>"
      ],
      "text/plain": [
       "       Paper 1 Evaluation  Paper 2 Evaluation\n",
       "count           78.000000           78.000000\n",
       "mean            53.258547           54.981303\n",
       "std             17.126502           12.653111\n",
       "min              0.000000           29.166667\n",
       "25%             44.791667           46.875000\n",
       "50%             52.083333           52.083333\n",
       "75%             62.500000           63.281250\n",
       "max             89.583333           80.208333"
      ]
     },
     "execution_count": 29,
     "metadata": {},
     "output_type": "execute_result"
    }
   ],
   "source": [
    "# comparing student performance between evaluation of paper 1 + 2\n",
    "datasetEval[['Paper 1 Evaluation','Paper 2 Evaluation']].describe()"
   ]
  },
  {
   "cell_type": "markdown",
   "metadata": {},
   "source": [
    "## Plotting Evaluation: Paper 1 v Paper 2"
   ]
  },
  {
   "cell_type": "code",
   "execution_count": 31,
   "metadata": {},
   "outputs": [
    {
     "data": {
      "image/png": "[encoded data removed]",
      "text/plain": [
       "<Figure size 432x288 with 1 Axes>"
      ]
     },
     "metadata": {},
     "output_type": "display_data"
    }
   ],
   "source": [
    "#visualising the training data- ACTUAL Data\n",
    "X2=datasetEval.iloc[:,4:5]  # Paper 1 Evaluation\n",
    "y2=datasetEval.iloc[:,5:6]  # Paper 2 Evaluation\n",
    "plt.scatter(X2,y2, color=\"red\")\n",
    "\n",
    "plt.title(\"Paper 1 Eval vs Paper 2 Eval\")\n",
    "plt.xlabel(\"Paper 1 Evaluation \")\n",
    "plt.ylabel(\"Paper 2 Evaluation\")\n",
    "plt.show()"
   ]
  },
  {
   "cell_type": "markdown",
   "metadata": {},
   "source": [
    "## Boxplot is much better as a comparison"
   ]
  },
  {
   "cell_type": "code",
   "execution_count": 32,
   "metadata": {},
   "outputs": [
    {
     "data": {
      "text/plain": [
       "<matplotlib.axes._subplots.AxesSubplot at 0x1badb1b20b8>"
      ]
     },
     "execution_count": 32,
     "metadata": {},
     "output_type": "execute_result"
    },
    {
     "data": {
      "image/png": "[encoded data removed]",
      "text/plain": [
       "<Figure size 1008x648 with 1 Axes>"
      ]
     },
     "metadata": {},
     "output_type": "display_data"
    }
   ],
   "source": [
    "datasetEval[['Paper 1 Evaluation','Paper 2 Evaluation']].boxplot(figsize = (14,9))"
   ]
  },
  {
   "cell_type": "code",
   "execution_count": 33,
   "metadata": {},
   "outputs": [
    {
     "data": {
      "image/png": "[encoded data removed]",
      "text/plain": [
       "<Figure size 432x288 with 1 Axes>"
      ]
     },
     "metadata": {},
     "output_type": "display_data"
    }
   ],
   "source": [
    "# Setting the list to be used to plot which is refinement of the original\n",
    "colsofinterestEvalSum =['Paper 1 Evaluation','Paper 2 Evaluation'] # long var name change \n",
    "sns.set_style(\"darkgrid\")\n",
    "bplot = sns.boxplot(\n",
    "                 data=datasetEval[colsofinterestEvalSum],\n",
    "                 width=0.3,\n",
    "                 palette=\"colorblind\").set_title(\"PAPER 1 Eval   +  PAPER 2 Eval\")"
   ]
  },
  {
   "cell_type": "markdown",
   "metadata": {},
   "source": [
    "# Logostic Regression "
   ]
  },
  {
   "cell_type": "code",
   "execution_count": 45,
   "metadata": {},
   "outputs": [
    {
     "data": {
      "text/plain": [
       "Index(['Surname Forename', 'P1:Q1-M3', 'P1:Q2-M6', 'P1:Q3-M15',\n",
       "       'GD Sec A Paper1', 'P1:Q1-M24', 'P1:Q2-M16', 'Grade: Paper 1',\n",
       "       'P2:Q1-M6', 'P2:Q2-M15', 'P2 Q3:-M15', 'P2 Q4:M6', 'P2 Q5:-M14',\n",
       "       'Paper 2 Secion A Grade', 'P2 Sec B Q1-M24', 'P2 Sec B Q2-M16',\n",
       "       'Edexcel En P2 Sec B AO5.2 Y11 Mock 2', 'Grade: Paper 2',\n",
       "       'OVERALL GRADE', 'Apply6thFrm', 'Apply6thFrm_cat'],\n",
       "      dtype='object')"
      ]
     },
     "execution_count": 45,
     "metadata": {},
     "output_type": "execute_result"
    }
   ],
   "source": [
    "datasetCon.columns"
   ]
  },
  {
   "cell_type": "code",
   "execution_count": 46,
   "metadata": {},
   "outputs": [],
   "source": [
    "# dataset\n",
    "colsofinterestEvalSum =['Paper 1 Evaluation','Paper 2 Evaluation']\n",
    "X=datasetEval[['Paper 1 Evaluation','Paper 2 Evaluation']]\n",
    "y=datasetCon['Apply6thFrm_cat']"
   ]
  },
  {
   "cell_type": "code",
   "execution_count": 47,
   "metadata": {},
   "outputs": [],
   "source": [
    "from sklearn.model_selection import train_test_split \n",
    "X_train, X_test, y_train, y_test = train_test_split(X, y, test_size=0.25, random_state=0)\n"
   ]
  },
  {
   "cell_type": "code",
   "execution_count": 48,
   "metadata": {},
   "outputs": [],
   "source": [
    "from sklearn.preprocessing import StandardScaler\n",
    "#create obj of this class to work with it\n",
    "#right now we only scale the X feature\n",
    "sc_X = StandardScaler()\n",
    "#fit and transform our training and test set\n",
    "#We recompute X_train to scale\n",
    "X_train = sc_X.fit_transform(X_train)  # we call the object sc_X and the method fit_tranform\n",
    "#you have to fit the object to the training set THEN.. transform it\n",
    "X_test = sc_X.transform(X_test) # dont need to fit the test set to object as its already one to the train set\"\"\""
   ]
  },
  {
   "cell_type": "code",
   "execution_count": 49,
   "metadata": {},
   "outputs": [
    {
     "name": "stderr",
     "output_type": "stream",
     "text": [
      "C:\\Users\\Demetrios\\Anaconda3\\lib\\site-packages\\sklearn\\linear_model\\logistic.py:433: FutureWarning: Default solver will be changed to 'lbfgs' in 0.22. Specify a solver to silence this warning.\n",
      "  FutureWarning)\n"
     ]
    },
    {
     "data": {
      "text/plain": [
       "LogisticRegression(C=1.0, class_weight=None, dual=False, fit_intercept=True,\n",
       "          intercept_scaling=1, max_iter=100, multi_class='warn',\n",
       "          n_jobs=None, penalty='l2', random_state=0, solver='warn',\n",
       "          tol=0.0001, verbose=0, warm_start=False)"
      ]
     },
     "execution_count": 49,
     "metadata": {},
     "output_type": "execute_result"
    }
   ],
   "source": [
    "# fitting logistic regression to the training set\n",
    "from sklearn.linear_model import LogisticRegression\n",
    "classifier = LogisticRegression(random_state=0)\n",
    "classifier.fit(X_train,y_train)"
   ]
  },
  {
   "cell_type": "code",
   "execution_count": 50,
   "metadata": {},
   "outputs": [
    {
     "data": {
      "text/plain": [
       "array([0, 1, 0, 1, 0, 0, 1, 1, 0, 1, 1, 0, 1, 0, 0, 1, 0, 0, 0, 0],\n",
       "      dtype=int8)"
      ]
     },
     "execution_count": 50,
     "metadata": {},
     "output_type": "execute_result"
    }
   ],
   "source": [
    "#predicting the test set results\n",
    "y_pred = classifier.predict(X_test)\n",
    "y_pred"
   ]
  },
  {
   "cell_type": "code",
   "execution_count": 51,
   "metadata": {},
   "outputs": [
    {
     "name": "stdout",
     "output_type": "stream",
     "text": [
      "              precision    recall  f1-score   support\n",
      "\n",
      "           0       0.83      0.77      0.80        13\n",
      "           1       0.62      0.71      0.67         7\n",
      "\n",
      "   micro avg       0.75      0.75      0.75        20\n",
      "   macro avg       0.73      0.74      0.73        20\n",
      "weighted avg       0.76      0.75      0.75        20\n",
      "\n",
      "                  Predicted: NO  Predicted: SURVIVED\n",
      "Actual: NOT                  10                    3\n",
      "Actual: SURVIVED              2                    5\n"
     ]
    }
   ],
   "source": [
    "# making Confusion Matrix\n",
    "# EVALUATE IF OUR MODEL LEARNT WELL!! CHECK CORRECT AND INCORRECT PREDS\n",
    "# from sklearn.metrics import confusion_matrix  # we are importing a function not a class!!\n",
    "# cm = confusion_matrix(y_train,y_pred)\n",
    "# cm\n",
    "\n",
    "from sklearn.metrics import confusion_matrix, classification_report\n",
    "print(classification_report(y_test, y_pred))\n",
    "cm = pd.DataFrame(confusion_matrix(y_test, y_pred), ['Actual: NOT', 'Actual: SURVIVED'], ['Predicted: NO', 'Predicted: SURVIVED'])\n",
    "print(cm)"
   ]
  },
  {
   "cell_type": "code",
   "execution_count": 52,
   "metadata": {},
   "outputs": [
    {
     "name": "stderr",
     "output_type": "stream",
     "text": [
      "'c' argument looks like a single numeric RGB or RGBA sequence, which should be avoided as value-mapping will have precedence in case its length matches with 'x' & 'y'.  Please use a 2-D array with a single row if you really want to specify the same RGB or RGBA value for all points.\n",
      "'c' argument looks like a single numeric RGB or RGBA sequence, which should be avoided as value-mapping will have precedence in case its length matches with 'x' & 'y'.  Please use a 2-D array with a single row if you really want to specify the same RGB or RGBA value for all points.\n"
     ]
    },
    {
     "data": {
      "image/png": "[encoded data removed]",
      "text/plain": [
       "<Figure size 432x288 with 1 Axes>"
      ]
     },
     "metadata": {},
     "output_type": "display_data"
    }
   ],
   "source": [
    "# Visualising the TRAINING set results\n",
    "from matplotlib.colors import ListedColormap\n",
    "X_set, y_set = X_train, y_train\n",
    "X1, X2 = np.meshgrid(np.arange(start = X_set[:, 0].min() - 1, stop = X_set[:, 0].max() + 1, step = 0.01),\n",
    "                     np.arange(start = X_set[:, 1].min() - 1, stop = X_set[:, 1].max() + 1, step = 0.01))\n",
    "plt.contourf(X1, X2, classifier.predict(np.array([X1.ravel(), X2.ravel()]).T).reshape(X1.shape),\n",
    "             alpha = 0.75, cmap = ListedColormap(('red', 'green')))\n",
    "plt.xlim(X1.min(), X1.max())\n",
    "plt.ylim(X2.min(), X2.max())\n",
    "for i, j in enumerate(np.unique(y_set)):\n",
    "    plt.scatter(X_set[y_set == j, 0], X_set[y_set == j, 1],\n",
    "                c = ListedColormap(('red', 'green'))(i), label = j)\n",
    "plt.title('P1 + P2 Evaluation against 5 GCSEs A-c')\n",
    "plt.xlabel('Paper 1 Evaluation')\n",
    "plt.ylabel('Paper 2 Evaluation')\n",
    "plt.legend()\n",
    "plt.show() "
   ]
  },
  {
   "cell_type": "code",
   "execution_count": 53,
   "metadata": {},
   "outputs": [
    {
     "data": {
      "text/plain": [
       "Index(['Surname Forename', 'P1:Q1-M3', 'P1:Q2-M6', 'P1:Q3-M15',\n",
       "       'GD Sec A Paper1', 'P1:Q1-M24', 'P1:Q2-M16', 'Grade: Paper 1',\n",
       "       'P2:Q1-M6', 'P2:Q2-M15', 'P2 Q3:-M15', 'P2 Q4:M6', 'P2 Q5:-M14',\n",
       "       'Paper 2 Secion A Grade', 'P2 Sec B Q1-M24', 'P2 Sec B Q2-M16',\n",
       "       'Edexcel En P2 Sec B AO5.2 Y11 Mock 2', 'Grade: Paper 2',\n",
       "       'OVERALL GRADE', 'Apply6thFrm', 'Apply6thFrm_cat'],\n",
       "      dtype='object')"
      ]
     },
     "execution_count": 53,
     "metadata": {},
     "output_type": "execute_result"
    }
   ],
   "source": [
    "datasetCon.columns"
   ]
  },
  {
   "cell_type": "markdown",
   "metadata": {},
   "source": [
    "## Fitting all the Questions % to the LinearRegression() class"
   ]
  },
  {
   "cell_type": "code",
   "execution_count": 55,
   "metadata": {},
   "outputs": [],
   "source": [
    "# setting up the test and train set\n",
    "#X = datasetCon[['P1:Q1-M24','P1:Q3-M15']]\n",
    "X = datasetCon.iloc[:,1:6].values\n",
    "y=datasetCon[\"OVERALL GRADE\"]\n",
    "\n",
    "from sklearn.model_selection import train_test_split \n",
    "X_train, X_test, y_train, y_test = train_test_split(X, y, test_size=0.2, random_state=0)"
   ]
  },
  {
   "cell_type": "code",
   "execution_count": 56,
   "metadata": {},
   "outputs": [
    {
     "data": {
      "text/plain": [
       "LinearRegression(copy_X=True, fit_intercept=True, n_jobs=None,\n",
       "         normalize=False)"
      ]
     },
     "execution_count": 56,
     "metadata": {},
     "output_type": "execute_result"
    }
   ],
   "source": [
    "# creatuing a regressor object to fit the training set\n",
    "from sklearn.linear_model import LinearRegression\n",
    "# ## 'linear_model'= the library\n",
    "# ## 'LinearRegression = the class from lib'\n",
    "regressor = LinearRegression()  #creating the OBJect of the LinearRegression Class -so we call the LinearRegression Class\n",
    "\n",
    "regressor.fit(X_train, y_train)\n",
    "\n",
    "regressor"
   ]
  },
  {
   "cell_type": "code",
   "execution_count": 57,
   "metadata": {},
   "outputs": [
    {
     "data": {
      "text/plain": [
       "array([2.4546938 , 6.6137535 , 3.48584419, 4.7837119 , 3.32157098,\n",
       "       2.36937353, 4.41495739, 5.89643675, 4.11409485, 4.88374096,\n",
       "       4.59567707, 4.59019358, 5.09928322, 4.22143907, 3.11245603,\n",
       "       4.40215875])"
      ]
     },
     "execution_count": 57,
     "metadata": {},
     "output_type": "execute_result"
    }
   ],
   "source": [
    "y_pred = regressor.predict(X_test)\n",
    "y_pred"
   ]
  },
  {
   "cell_type": "code",
   "execution_count": 58,
   "metadata": {},
   "outputs": [],
   "source": [
    "# compare ypred to ytest as a quick overview\n",
    "# for a,b in zip(y_pred,y_test):\n",
    "#     print(a,\"===\",b,\" Difference: \",b-a)"
   ]
  },
  {
   "cell_type": "code",
   "execution_count": 59,
   "metadata": {},
   "outputs": [
    {
     "name": "stdout",
     "output_type": "stream",
     "text": [
      "Coefficients: \n",
      " [ 0.01359043  0.00930264  0.02820522 -0.00731516  0.03852658]\n",
      "Mean squared error: 0.38\n",
      "Variance score: 0.76\n",
      "[0.37901368]\n"
     ]
    }
   ],
   "source": [
    "from sklearn.metrics import mean_squared_error, r2_score\n",
    "# The coefficients\n",
    "print('Coefficients: \\n', regressor.coef_)\n",
    "# The mean squared error\n",
    "print(\"Mean squared error: %.2f\"\n",
    "      % mean_squared_error(y_test, y_pred))\n",
    "# Explained variance score: 1 is perfect prediction, 0 is random \n",
    "print('Variance score: %.2f' % r2_score(y_test, y_pred))\n",
    "\n",
    "print(mean_squared_error(y_test, y_pred, multioutput='raw_values'))"
   ]
  },
  {
   "cell_type": "code",
   "execution_count": 60,
   "metadata": {},
   "outputs": [
    {
     "data": {
      "text/plain": [
       "Index(['P1:Q1-M3', 'P1:Q2-M6', 'P1:Q3-M15', 'P1:Q1-M24', 'P1:Q2-M16',\n",
       "       'P2:Q1-M6', 'P2:Q2-M15', 'P2 Q4:M6', 'P2 Q5:-M14', 'P2 Sec B Q1-M24',\n",
       "       'P2 Sec B Q2-M16'],\n",
       "      dtype='object')"
      ]
     },
     "execution_count": 60,
     "metadata": {},
     "output_type": "execute_result"
    }
   ],
   "source": [
    "datasetCon[colsofinterest].columns"
   ]
  },
  {
   "cell_type": "markdown",
   "metadata": {},
   "source": [
    "# Multi Linear Regression on all questions for their statistical importance on the Overall Grade -- the Optimal Model"
   ]
  },
  {
   "cell_type": "code",
   "execution_count": 61,
   "metadata": {},
   "outputs": [
    {
     "name": "stdout",
     "output_type": "stream",
     "text": [
      "Coefficients: \n",
      " [ 0.01359043  0.00930264  0.02820522 -0.00731516  0.03852658]\n",
      "Mean squared error: 0.38\n",
      "Variance score: 0.76\n",
      "[0.37901368]\n"
     ]
    }
   ],
   "source": [
    "from sklearn.metrics import mean_squared_error, r2_score\n",
    "# The coefficients\n",
    "print('Coefficients: \\n', regressor.coef_)\n",
    "# The mean squared error\n",
    "print(\"Mean squared error: %.2f\"\n",
    "      % mean_squared_error(y_test, y_pred))\n",
    "# Explained variance score: 1 is perfect prediction, 0 is random \n",
    "print('Variance score: %.2f' % r2_score(y_test, y_pred))\n",
    "\n",
    "print(mean_squared_error(y_test, y_pred, multioutput='raw_values'))"
   ]
  },
  {
   "cell_type": "code",
   "execution_count": 62,
   "metadata": {},
   "outputs": [
    {
     "data": {
      "text/html": [
       "<table class=\"simpletable\">\n",
       "<caption>OLS Regression Results</caption>\n",
       "<tr>\n",
       "  <th>Dep. Variable:</th>            <td>y</td>        <th>  R-squared:         </th> <td>   0.953</td>\n",
       "</tr>\n",
       "<tr>\n",
       "  <th>Model:</th>                   <td>OLS</td>       <th>  Adj. R-squared:    </th> <td>   0.945</td>\n",
       "</tr>\n",
       "<tr>\n",
       "  <th>Method:</th>             <td>Least Squares</td>  <th>  F-statistic:       </th> <td>   121.0</td>\n",
       "</tr>\n",
       "<tr>\n",
       "  <th>Date:</th>             <td>Sun, 14 Apr 2019</td> <th>  Prob (F-statistic):</th> <td>2.69e-39</td>\n",
       "</tr>\n",
       "<tr>\n",
       "  <th>Time:</th>                 <td>19:33:15</td>     <th>  Log-Likelihood:    </th> <td> -25.592</td>\n",
       "</tr>\n",
       "<tr>\n",
       "  <th>No. Observations:</th>      <td>    78</td>      <th>  AIC:               </th> <td>   75.18</td>\n",
       "</tr>\n",
       "<tr>\n",
       "  <th>Df Residuals:</th>          <td>    66</td>      <th>  BIC:               </th> <td>   103.5</td>\n",
       "</tr>\n",
       "<tr>\n",
       "  <th>Df Model:</th>              <td>    11</td>      <th>                     </th>     <td> </td>   \n",
       "</tr>\n",
       "<tr>\n",
       "  <th>Covariance Type:</th>      <td>nonrobust</td>    <th>                     </th>     <td> </td>   \n",
       "</tr>\n",
       "</table>\n",
       "<table class=\"simpletable\">\n",
       "<tr>\n",
       "    <td></td>       <th>coef</th>     <th>std err</th>      <th>t</th>      <th>P>|t|</th>  <th>[0.025</th>    <th>0.975]</th>  \n",
       "</tr>\n",
       "<tr>\n",
       "  <th>const</th> <td>   -0.8437</td> <td>    0.528</td> <td>   -1.599</td> <td> 0.115</td> <td>   -1.897</td> <td>    0.210</td>\n",
       "</tr>\n",
       "<tr>\n",
       "  <th>x1</th>    <td>   -0.0013</td> <td>    0.005</td> <td>   -0.257</td> <td> 0.798</td> <td>   -0.012</td> <td>    0.009</td>\n",
       "</tr>\n",
       "<tr>\n",
       "  <th>x2</th>    <td>    0.0055</td> <td>    0.003</td> <td>    1.721</td> <td> 0.090</td> <td>   -0.001</td> <td>    0.012</td>\n",
       "</tr>\n",
       "<tr>\n",
       "  <th>x3</th>    <td>    0.0068</td> <td>    0.005</td> <td>    1.420</td> <td> 0.160</td> <td>   -0.003</td> <td>    0.016</td>\n",
       "</tr>\n",
       "<tr>\n",
       "  <th>x4</th>    <td>    0.0208</td> <td>    0.005</td> <td>    4.426</td> <td> 0.000</td> <td>    0.011</td> <td>    0.030</td>\n",
       "</tr>\n",
       "<tr>\n",
       "  <th>x5</th>    <td>    0.0122</td> <td>    0.006</td> <td>    2.132</td> <td> 0.037</td> <td>    0.001</td> <td>    0.024</td>\n",
       "</tr>\n",
       "<tr>\n",
       "  <th>x6</th>    <td>    0.0020</td> <td>    0.003</td> <td>    0.685</td> <td> 0.496</td> <td>   -0.004</td> <td>    0.008</td>\n",
       "</tr>\n",
       "<tr>\n",
       "  <th>x7</th>    <td>    0.0111</td> <td>    0.004</td> <td>    2.596</td> <td> 0.012</td> <td>    0.003</td> <td>    0.020</td>\n",
       "</tr>\n",
       "<tr>\n",
       "  <th>x8</th>    <td>    0.0032</td> <td>    0.002</td> <td>    1.676</td> <td> 0.098</td> <td>   -0.001</td> <td>    0.007</td>\n",
       "</tr>\n",
       "<tr>\n",
       "  <th>x9</th>    <td>    0.0128</td> <td>    0.003</td> <td>    4.676</td> <td> 0.000</td> <td>    0.007</td> <td>    0.018</td>\n",
       "</tr>\n",
       "<tr>\n",
       "  <th>x10</th>   <td>    0.0103</td> <td>    0.006</td> <td>    1.857</td> <td> 0.068</td> <td>   -0.001</td> <td>    0.021</td>\n",
       "</tr>\n",
       "<tr>\n",
       "  <th>x11</th>   <td>    0.0205</td> <td>    0.007</td> <td>    3.005</td> <td> 0.004</td> <td>    0.007</td> <td>    0.034</td>\n",
       "</tr>\n",
       "</table>\n",
       "<table class=\"simpletable\">\n",
       "<tr>\n",
       "  <th>Omnibus:</th>       <td> 2.199</td> <th>  Durbin-Watson:     </th> <td>   2.029</td>\n",
       "</tr>\n",
       "<tr>\n",
       "  <th>Prob(Omnibus):</th> <td> 0.333</td> <th>  Jarque-Bera (JB):  </th> <td>   1.686</td>\n",
       "</tr>\n",
       "<tr>\n",
       "  <th>Skew:</th>          <td>-0.183</td> <th>  Prob(JB):          </th> <td>   0.430</td>\n",
       "</tr>\n",
       "<tr>\n",
       "  <th>Kurtosis:</th>      <td> 2.380</td> <th>  Cond. No.          </th> <td>2.72e+03</td>\n",
       "</tr>\n",
       "</table><br/><br/>Warnings:<br/>[1] Standard Errors assume that the covariance matrix of the errors is correctly specified.<br/>[2] The condition number is large, 2.72e+03. This might indicate that there are<br/>strong multicollinearity or other numerical problems."
      ],
      "text/plain": [
       "<class 'statsmodels.iolib.summary.Summary'>\n",
       "\"\"\"\n",
       "                            OLS Regression Results                            \n",
       "==============================================================================\n",
       "Dep. Variable:                      y   R-squared:                       0.953\n",
       "Model:                            OLS   Adj. R-squared:                  0.945\n",
       "Method:                 Least Squares   F-statistic:                     121.0\n",
       "Date:                Sun, 14 Apr 2019   Prob (F-statistic):           2.69e-39\n",
       "Time:                        19:33:15   Log-Likelihood:                -25.592\n",
       "No. Observations:                  78   AIC:                             75.18\n",
       "Df Residuals:                      66   BIC:                             103.5\n",
       "Df Model:                          11                                         \n",
       "Covariance Type:            nonrobust                                         \n",
       "==============================================================================\n",
       "                 coef    std err          t      P>|t|      [0.025      0.975]\n",
       "------------------------------------------------------------------------------\n",
       "const         -0.8437      0.528     -1.599      0.115      -1.897       0.210\n",
       "x1            -0.0013      0.005     -0.257      0.798      -0.012       0.009\n",
       "x2             0.0055      0.003      1.721      0.090      -0.001       0.012\n",
       "x3             0.0068      0.005      1.420      0.160      -0.003       0.016\n",
       "x4             0.0208      0.005      4.426      0.000       0.011       0.030\n",
       "x5             0.0122      0.006      2.132      0.037       0.001       0.024\n",
       "x6             0.0020      0.003      0.685      0.496      -0.004       0.008\n",
       "x7             0.0111      0.004      2.596      0.012       0.003       0.020\n",
       "x8             0.0032      0.002      1.676      0.098      -0.001       0.007\n",
       "x9             0.0128      0.003      4.676      0.000       0.007       0.018\n",
       "x10            0.0103      0.006      1.857      0.068      -0.001       0.021\n",
       "x11            0.0205      0.007      3.005      0.004       0.007       0.034\n",
       "==============================================================================\n",
       "Omnibus:                        2.199   Durbin-Watson:                   2.029\n",
       "Prob(Omnibus):                  0.333   Jarque-Bera (JB):                1.686\n",
       "Skew:                          -0.183   Prob(JB):                        0.430\n",
       "Kurtosis:                       2.380   Cond. No.                     2.72e+03\n",
       "==============================================================================\n",
       "\n",
       "Warnings:\n",
       "[1] Standard Errors assume that the covariance matrix of the errors is correctly specified.\n",
       "[2] The condition number is large, 2.72e+03. This might indicate that there are\n",
       "strong multicollinearity or other numerical problems.\n",
       "\"\"\""
      ]
     },
     "execution_count": 62,
     "metadata": {},
     "output_type": "execute_result"
    }
   ],
   "source": [
    "# Using the stats model and includinf a constant\n",
    "# this is to ensure \n",
    "import statsmodels.api as smm\n",
    "import statsmodels.formula.api as sm\n",
    "\n",
    "X = smm.add_constant(datasetCon[colsofinterest])\n",
    "X = np.array(X)\n",
    "X = X.astype(np.float64)\n",
    "Y = np.array(datasetCon['OVERALL GRADE'].values)\n",
    "Y = Y.astype(np.float64)\n",
    "\n",
    "regressor_OLS = sm.OLS(endog = Y, exog = X).fit()\n",
    "regressor_OLS.summary()"
   ]
  },
  {
   "cell_type": "markdown",
   "metadata": {},
   "source": [
    "# Backward Elimination"
   ]
  },
  {
   "cell_type": "code",
   "execution_count": 63,
   "metadata": {},
   "outputs": [
    {
     "data": {
      "text/html": [
       "<table class=\"simpletable\">\n",
       "<caption>OLS Regression Results</caption>\n",
       "<tr>\n",
       "  <th>Dep. Variable:</th>            <td>y</td>        <th>  R-squared:         </th> <td>   0.953</td>\n",
       "</tr>\n",
       "<tr>\n",
       "  <th>Model:</th>                   <td>OLS</td>       <th>  Adj. R-squared:    </th> <td>   0.946</td>\n",
       "</tr>\n",
       "<tr>\n",
       "  <th>Method:</th>             <td>Least Squares</td>  <th>  F-statistic:       </th> <td>   135.0</td>\n",
       "</tr>\n",
       "<tr>\n",
       "  <th>Date:</th>             <td>Sun, 14 Apr 2019</td> <th>  Prob (F-statistic):</th> <td>2.33e-40</td>\n",
       "</tr>\n",
       "<tr>\n",
       "  <th>Time:</th>                 <td>19:33:16</td>     <th>  Log-Likelihood:    </th> <td> -25.631</td>\n",
       "</tr>\n",
       "<tr>\n",
       "  <th>No. Observations:</th>      <td>    78</td>      <th>  AIC:               </th> <td>   73.26</td>\n",
       "</tr>\n",
       "<tr>\n",
       "  <th>Df Residuals:</th>          <td>    67</td>      <th>  BIC:               </th> <td>   99.19</td>\n",
       "</tr>\n",
       "<tr>\n",
       "  <th>Df Model:</th>              <td>    10</td>      <th>                     </th>     <td> </td>   \n",
       "</tr>\n",
       "<tr>\n",
       "  <th>Covariance Type:</th>      <td>nonrobust</td>    <th>                     </th>     <td> </td>   \n",
       "</tr>\n",
       "</table>\n",
       "<table class=\"simpletable\">\n",
       "<tr>\n",
       "    <td></td>       <th>coef</th>     <th>std err</th>      <th>t</th>      <th>P>|t|</th>  <th>[0.025</th>    <th>0.975]</th>  \n",
       "</tr>\n",
       "<tr>\n",
       "  <th>const</th> <td>   -0.9611</td> <td>    0.262</td> <td>   -3.662</td> <td> 0.000</td> <td>   -1.485</td> <td>   -0.437</td>\n",
       "</tr>\n",
       "<tr>\n",
       "  <th>x1</th>    <td>    0.0054</td> <td>    0.003</td> <td>    1.718</td> <td> 0.090</td> <td>   -0.001</td> <td>    0.012</td>\n",
       "</tr>\n",
       "<tr>\n",
       "  <th>x2</th>    <td>    0.0071</td> <td>    0.005</td> <td>    1.566</td> <td> 0.122</td> <td>   -0.002</td> <td>    0.016</td>\n",
       "</tr>\n",
       "<tr>\n",
       "  <th>x3</th>    <td>    0.0207</td> <td>    0.005</td> <td>    4.450</td> <td> 0.000</td> <td>    0.011</td> <td>    0.030</td>\n",
       "</tr>\n",
       "<tr>\n",
       "  <th>x4</th>    <td>    0.0120</td> <td>    0.006</td> <td>    2.132</td> <td> 0.037</td> <td>    0.001</td> <td>    0.023</td>\n",
       "</tr>\n",
       "<tr>\n",
       "  <th>x5</th>    <td>    0.0020</td> <td>    0.003</td> <td>    0.709</td> <td> 0.481</td> <td>   -0.004</td> <td>    0.008</td>\n",
       "</tr>\n",
       "<tr>\n",
       "  <th>x6</th>    <td>    0.0109</td> <td>    0.004</td> <td>    2.612</td> <td> 0.011</td> <td>    0.003</td> <td>    0.019</td>\n",
       "</tr>\n",
       "<tr>\n",
       "  <th>x7</th>    <td>    0.0032</td> <td>    0.002</td> <td>    1.669</td> <td> 0.100</td> <td>   -0.001</td> <td>    0.007</td>\n",
       "</tr>\n",
       "<tr>\n",
       "  <th>x8</th>    <td>    0.0130</td> <td>    0.003</td> <td>    4.815</td> <td> 0.000</td> <td>    0.008</td> <td>    0.018</td>\n",
       "</tr>\n",
       "<tr>\n",
       "  <th>x9</th>    <td>    0.0103</td> <td>    0.005</td> <td>    1.875</td> <td> 0.065</td> <td>   -0.001</td> <td>    0.021</td>\n",
       "</tr>\n",
       "<tr>\n",
       "  <th>x10</th>   <td>    0.0203</td> <td>    0.007</td> <td>    3.018</td> <td> 0.004</td> <td>    0.007</td> <td>    0.034</td>\n",
       "</tr>\n",
       "</table>\n",
       "<table class=\"simpletable\">\n",
       "<tr>\n",
       "  <th>Omnibus:</th>       <td> 2.152</td> <th>  Durbin-Watson:     </th> <td>   2.035</td>\n",
       "</tr>\n",
       "<tr>\n",
       "  <th>Prob(Omnibus):</th> <td> 0.341</td> <th>  Jarque-Bera (JB):  </th> <td>   1.669</td>\n",
       "</tr>\n",
       "<tr>\n",
       "  <th>Skew:</th>          <td>-0.184</td> <th>  Prob(JB):          </th> <td>   0.434</td>\n",
       "</tr>\n",
       "<tr>\n",
       "  <th>Kurtosis:</th>      <td> 2.385</td> <th>  Cond. No.          </th> <td>1.22e+03</td>\n",
       "</tr>\n",
       "</table><br/><br/>Warnings:<br/>[1] Standard Errors assume that the covariance matrix of the errors is correctly specified.<br/>[2] The condition number is large, 1.22e+03. This might indicate that there are<br/>strong multicollinearity or other numerical problems."
      ],
      "text/plain": [
       "<class 'statsmodels.iolib.summary.Summary'>\n",
       "\"\"\"\n",
       "                            OLS Regression Results                            \n",
       "==============================================================================\n",
       "Dep. Variable:                      y   R-squared:                       0.953\n",
       "Model:                            OLS   Adj. R-squared:                  0.946\n",
       "Method:                 Least Squares   F-statistic:                     135.0\n",
       "Date:                Sun, 14 Apr 2019   Prob (F-statistic):           2.33e-40\n",
       "Time:                        19:33:16   Log-Likelihood:                -25.631\n",
       "No. Observations:                  78   AIC:                             73.26\n",
       "Df Residuals:                      67   BIC:                             99.19\n",
       "Df Model:                          10                                         \n",
       "Covariance Type:            nonrobust                                         \n",
       "==============================================================================\n",
       "                 coef    std err          t      P>|t|      [0.025      0.975]\n",
       "------------------------------------------------------------------------------\n",
       "const         -0.9611      0.262     -3.662      0.000      -1.485      -0.437\n",
       "x1             0.0054      0.003      1.718      0.090      -0.001       0.012\n",
       "x2             0.0071      0.005      1.566      0.122      -0.002       0.016\n",
       "x3             0.0207      0.005      4.450      0.000       0.011       0.030\n",
       "x4             0.0120      0.006      2.132      0.037       0.001       0.023\n",
       "x5             0.0020      0.003      0.709      0.481      -0.004       0.008\n",
       "x6             0.0109      0.004      2.612      0.011       0.003       0.019\n",
       "x7             0.0032      0.002      1.669      0.100      -0.001       0.007\n",
       "x8             0.0130      0.003      4.815      0.000       0.008       0.018\n",
       "x9             0.0103      0.005      1.875      0.065      -0.001       0.021\n",
       "x10            0.0203      0.007      3.018      0.004       0.007       0.034\n",
       "==============================================================================\n",
       "Omnibus:                        2.152   Durbin-Watson:                   2.035\n",
       "Prob(Omnibus):                  0.341   Jarque-Bera (JB):                1.669\n",
       "Skew:                          -0.184   Prob(JB):                        0.434\n",
       "Kurtosis:                       2.385   Cond. No.                     1.22e+03\n",
       "==============================================================================\n",
       "\n",
       "Warnings:\n",
       "[1] Standard Errors assume that the covariance matrix of the errors is correctly specified.\n",
       "[2] The condition number is large, 1.22e+03. This might indicate that there are\n",
       "strong multicollinearity or other numerical problems.\n",
       "\"\"\""
      ]
     },
     "execution_count": 63,
     "metadata": {},
     "output_type": "execute_result"
    }
   ],
   "source": [
    "X_opt = X[:,[0,2,3,4,5,6,7,8,9,10,11]]\n",
    "regressor_OLS = sm.OLS(endog = Y, exog = X_opt).fit()\n",
    "regressor_OLS.summary()"
   ]
  },
  {
   "cell_type": "code",
   "execution_count": 64,
   "metadata": {},
   "outputs": [
    {
     "data": {
      "text/html": [
       "<table class=\"simpletable\">\n",
       "<caption>OLS Regression Results</caption>\n",
       "<tr>\n",
       "  <th>Dep. Variable:</th>            <td>y</td>        <th>  R-squared:         </th> <td>   0.952</td>\n",
       "</tr>\n",
       "<tr>\n",
       "  <th>Model:</th>                   <td>OLS</td>       <th>  Adj. R-squared:    </th> <td>   0.946</td>\n",
       "</tr>\n",
       "<tr>\n",
       "  <th>Method:</th>             <td>Least Squares</td>  <th>  F-statistic:       </th> <td>   151.0</td>\n",
       "</tr>\n",
       "<tr>\n",
       "  <th>Date:</th>             <td>Sun, 14 Apr 2019</td> <th>  Prob (F-statistic):</th> <td>2.35e-41</td>\n",
       "</tr>\n",
       "<tr>\n",
       "  <th>Time:</th>                 <td>19:33:16</td>     <th>  Log-Likelihood:    </th> <td> -25.923</td>\n",
       "</tr>\n",
       "<tr>\n",
       "  <th>No. Observations:</th>      <td>    78</td>      <th>  AIC:               </th> <td>   71.85</td>\n",
       "</tr>\n",
       "<tr>\n",
       "  <th>Df Residuals:</th>          <td>    68</td>      <th>  BIC:               </th> <td>   95.41</td>\n",
       "</tr>\n",
       "<tr>\n",
       "  <th>Df Model:</th>              <td>     9</td>      <th>                     </th>     <td> </td>   \n",
       "</tr>\n",
       "<tr>\n",
       "  <th>Covariance Type:</th>      <td>nonrobust</td>    <th>                     </th>     <td> </td>   \n",
       "</tr>\n",
       "</table>\n",
       "<table class=\"simpletable\">\n",
       "<tr>\n",
       "    <td></td>       <th>coef</th>     <th>std err</th>      <th>t</th>      <th>P>|t|</th>  <th>[0.025</th>    <th>0.975]</th>  \n",
       "</tr>\n",
       "<tr>\n",
       "  <th>const</th> <td>   -0.8393</td> <td>    0.198</td> <td>   -4.243</td> <td> 0.000</td> <td>   -1.234</td> <td>   -0.445</td>\n",
       "</tr>\n",
       "<tr>\n",
       "  <th>x1</th>    <td>    0.0054</td> <td>    0.003</td> <td>    1.716</td> <td> 0.091</td> <td>   -0.001</td> <td>    0.012</td>\n",
       "</tr>\n",
       "<tr>\n",
       "  <th>x2</th>    <td>    0.0073</td> <td>    0.005</td> <td>    1.619</td> <td> 0.110</td> <td>   -0.002</td> <td>    0.016</td>\n",
       "</tr>\n",
       "<tr>\n",
       "  <th>x3</th>    <td>    0.0201</td> <td>    0.005</td> <td>    4.410</td> <td> 0.000</td> <td>    0.011</td> <td>    0.029</td>\n",
       "</tr>\n",
       "<tr>\n",
       "  <th>x4</th>    <td>    0.0129</td> <td>    0.005</td> <td>    2.365</td> <td> 0.021</td> <td>    0.002</td> <td>    0.024</td>\n",
       "</tr>\n",
       "<tr>\n",
       "  <th>x5</th>    <td>    0.0117</td> <td>    0.004</td> <td>    2.930</td> <td> 0.005</td> <td>    0.004</td> <td>    0.020</td>\n",
       "</tr>\n",
       "<tr>\n",
       "  <th>x6</th>    <td>    0.0032</td> <td>    0.002</td> <td>    1.698</td> <td> 0.094</td> <td>   -0.001</td> <td>    0.007</td>\n",
       "</tr>\n",
       "<tr>\n",
       "  <th>x7</th>    <td>    0.0128</td> <td>    0.003</td> <td>    4.791</td> <td> 0.000</td> <td>    0.007</td> <td>    0.018</td>\n",
       "</tr>\n",
       "<tr>\n",
       "  <th>x8</th>    <td>    0.0105</td> <td>    0.005</td> <td>    1.917</td> <td> 0.059</td> <td>   -0.000</td> <td>    0.021</td>\n",
       "</tr>\n",
       "<tr>\n",
       "  <th>x9</th>    <td>    0.0199</td> <td>    0.007</td> <td>    2.980</td> <td> 0.004</td> <td>    0.007</td> <td>    0.033</td>\n",
       "</tr>\n",
       "</table>\n",
       "<table class=\"simpletable\">\n",
       "<tr>\n",
       "  <th>Omnibus:</th>       <td> 2.767</td> <th>  Durbin-Watson:     </th> <td>   2.004</td>\n",
       "</tr>\n",
       "<tr>\n",
       "  <th>Prob(Omnibus):</th> <td> 0.251</td> <th>  Jarque-Bera (JB):  </th> <td>   2.134</td>\n",
       "</tr>\n",
       "<tr>\n",
       "  <th>Skew:</th>          <td>-0.253</td> <th>  Prob(JB):          </th> <td>   0.344</td>\n",
       "</tr>\n",
       "<tr>\n",
       "  <th>Kurtosis:</th>      <td> 2.367</td> <th>  Cond. No.          </th> <td>    828.</td>\n",
       "</tr>\n",
       "</table><br/><br/>Warnings:<br/>[1] Standard Errors assume that the covariance matrix of the errors is correctly specified."
      ],
      "text/plain": [
       "<class 'statsmodels.iolib.summary.Summary'>\n",
       "\"\"\"\n",
       "                            OLS Regression Results                            \n",
       "==============================================================================\n",
       "Dep. Variable:                      y   R-squared:                       0.952\n",
       "Model:                            OLS   Adj. R-squared:                  0.946\n",
       "Method:                 Least Squares   F-statistic:                     151.0\n",
       "Date:                Sun, 14 Apr 2019   Prob (F-statistic):           2.35e-41\n",
       "Time:                        19:33:16   Log-Likelihood:                -25.923\n",
       "No. Observations:                  78   AIC:                             71.85\n",
       "Df Residuals:                      68   BIC:                             95.41\n",
       "Df Model:                           9                                         \n",
       "Covariance Type:            nonrobust                                         \n",
       "==============================================================================\n",
       "                 coef    std err          t      P>|t|      [0.025      0.975]\n",
       "------------------------------------------------------------------------------\n",
       "const         -0.8393      0.198     -4.243      0.000      -1.234      -0.445\n",
       "x1             0.0054      0.003      1.716      0.091      -0.001       0.012\n",
       "x2             0.0073      0.005      1.619      0.110      -0.002       0.016\n",
       "x3             0.0201      0.005      4.410      0.000       0.011       0.029\n",
       "x4             0.0129      0.005      2.365      0.021       0.002       0.024\n",
       "x5             0.0117      0.004      2.930      0.005       0.004       0.020\n",
       "x6             0.0032      0.002      1.698      0.094      -0.001       0.007\n",
       "x7             0.0128      0.003      4.791      0.000       0.007       0.018\n",
       "x8             0.0105      0.005      1.917      0.059      -0.000       0.021\n",
       "x9             0.0199      0.007      2.980      0.004       0.007       0.033\n",
       "==============================================================================\n",
       "Omnibus:                        2.767   Durbin-Watson:                   2.004\n",
       "Prob(Omnibus):                  0.251   Jarque-Bera (JB):                2.134\n",
       "Skew:                          -0.253   Prob(JB):                        0.344\n",
       "Kurtosis:                       2.367   Cond. No.                         828.\n",
       "==============================================================================\n",
       "\n",
       "Warnings:\n",
       "[1] Standard Errors assume that the covariance matrix of the errors is correctly specified.\n",
       "\"\"\""
      ]
     },
     "execution_count": 64,
     "metadata": {},
     "output_type": "execute_result"
    }
   ],
   "source": [
    "X_opt = X[:,[0,2,3,4,5,7,8,9,10,11]]\n",
    "regressor_OLS = sm.OLS(endog = Y, exog = X_opt).fit()\n",
    "regressor_OLS.summary()"
   ]
  },
  {
   "cell_type": "code",
   "execution_count": 65,
   "metadata": {},
   "outputs": [
    {
     "data": {
      "text/html": [
       "<table class=\"simpletable\">\n",
       "<caption>OLS Regression Results</caption>\n",
       "<tr>\n",
       "  <th>Dep. Variable:</th>            <td>y</td>        <th>  R-squared:         </th> <td>   0.951</td>\n",
       "</tr>\n",
       "<tr>\n",
       "  <th>Model:</th>                   <td>OLS</td>       <th>  Adj. R-squared:    </th> <td>   0.945</td>\n",
       "</tr>\n",
       "<tr>\n",
       "  <th>Method:</th>             <td>Least Squares</td>  <th>  F-statistic:       </th> <td>   165.7</td>\n",
       "</tr>\n",
       "<tr>\n",
       "  <th>Date:</th>             <td>Sun, 14 Apr 2019</td> <th>  Prob (F-statistic):</th> <td>6.33e-42</td>\n",
       "</tr>\n",
       "<tr>\n",
       "  <th>Time:</th>                 <td>19:33:17</td>     <th>  Log-Likelihood:    </th> <td> -27.398</td>\n",
       "</tr>\n",
       "<tr>\n",
       "  <th>No. Observations:</th>      <td>    78</td>      <th>  AIC:               </th> <td>   72.80</td>\n",
       "</tr>\n",
       "<tr>\n",
       "  <th>Df Residuals:</th>          <td>    69</td>      <th>  BIC:               </th> <td>   94.01</td>\n",
       "</tr>\n",
       "<tr>\n",
       "  <th>Df Model:</th>              <td>     8</td>      <th>                     </th>     <td> </td>   \n",
       "</tr>\n",
       "<tr>\n",
       "  <th>Covariance Type:</th>      <td>nonrobust</td>    <th>                     </th>     <td> </td>   \n",
       "</tr>\n",
       "</table>\n",
       "<table class=\"simpletable\">\n",
       "<tr>\n",
       "    <td></td>       <th>coef</th>     <th>std err</th>      <th>t</th>      <th>P>|t|</th>  <th>[0.025</th>    <th>0.975]</th>  \n",
       "</tr>\n",
       "<tr>\n",
       "  <th>const</th> <td>   -0.9039</td> <td>    0.196</td> <td>   -4.612</td> <td> 0.000</td> <td>   -1.295</td> <td>   -0.513</td>\n",
       "</tr>\n",
       "<tr>\n",
       "  <th>x1</th>    <td>    0.0079</td> <td>    0.003</td> <td>    2.860</td> <td> 0.006</td> <td>    0.002</td> <td>    0.013</td>\n",
       "</tr>\n",
       "<tr>\n",
       "  <th>x2</th>    <td>    0.0219</td> <td>    0.004</td> <td>    4.911</td> <td> 0.000</td> <td>    0.013</td> <td>    0.031</td>\n",
       "</tr>\n",
       "<tr>\n",
       "  <th>x3</th>    <td>    0.0149</td> <td>    0.005</td> <td>    2.760</td> <td> 0.007</td> <td>    0.004</td> <td>    0.026</td>\n",
       "</tr>\n",
       "<tr>\n",
       "  <th>x4</th>    <td>    0.0135</td> <td>    0.004</td> <td>    3.474</td> <td> 0.001</td> <td>    0.006</td> <td>    0.021</td>\n",
       "</tr>\n",
       "<tr>\n",
       "  <th>x5</th>    <td>    0.0037</td> <td>    0.002</td> <td>    1.951</td> <td> 0.055</td> <td>-8.29e-05</td> <td>    0.007</td>\n",
       "</tr>\n",
       "<tr>\n",
       "  <th>x6</th>    <td>    0.0139</td> <td>    0.003</td> <td>    5.305</td> <td> 0.000</td> <td>    0.009</td> <td>    0.019</td>\n",
       "</tr>\n",
       "<tr>\n",
       "  <th>x7</th>    <td>    0.0095</td> <td>    0.006</td> <td>    1.730</td> <td> 0.088</td> <td>   -0.001</td> <td>    0.020</td>\n",
       "</tr>\n",
       "<tr>\n",
       "  <th>x8</th>    <td>    0.0204</td> <td>    0.007</td> <td>    3.015</td> <td> 0.004</td> <td>    0.007</td> <td>    0.034</td>\n",
       "</tr>\n",
       "</table>\n",
       "<table class=\"simpletable\">\n",
       "<tr>\n",
       "  <th>Omnibus:</th>       <td> 2.591</td> <th>  Durbin-Watson:     </th> <td>   1.941</td>\n",
       "</tr>\n",
       "<tr>\n",
       "  <th>Prob(Omnibus):</th> <td> 0.274</td> <th>  Jarque-Bera (JB):  </th> <td>   1.920</td>\n",
       "</tr>\n",
       "<tr>\n",
       "  <th>Skew:</th>          <td>-0.210</td> <th>  Prob(JB):          </th> <td>   0.383</td>\n",
       "</tr>\n",
       "<tr>\n",
       "  <th>Kurtosis:</th>      <td> 2.356</td> <th>  Cond. No.          </th> <td>    758.</td>\n",
       "</tr>\n",
       "</table><br/><br/>Warnings:<br/>[1] Standard Errors assume that the covariance matrix of the errors is correctly specified."
      ],
      "text/plain": [
       "<class 'statsmodels.iolib.summary.Summary'>\n",
       "\"\"\"\n",
       "                            OLS Regression Results                            \n",
       "==============================================================================\n",
       "Dep. Variable:                      y   R-squared:                       0.951\n",
       "Model:                            OLS   Adj. R-squared:                  0.945\n",
       "Method:                 Least Squares   F-statistic:                     165.7\n",
       "Date:                Sun, 14 Apr 2019   Prob (F-statistic):           6.33e-42\n",
       "Time:                        19:33:17   Log-Likelihood:                -27.398\n",
       "No. Observations:                  78   AIC:                             72.80\n",
       "Df Residuals:                      69   BIC:                             94.01\n",
       "Df Model:                           8                                         \n",
       "Covariance Type:            nonrobust                                         \n",
       "==============================================================================\n",
       "                 coef    std err          t      P>|t|      [0.025      0.975]\n",
       "------------------------------------------------------------------------------\n",
       "const         -0.9039      0.196     -4.612      0.000      -1.295      -0.513\n",
       "x1             0.0079      0.003      2.860      0.006       0.002       0.013\n",
       "x2             0.0219      0.004      4.911      0.000       0.013       0.031\n",
       "x3             0.0149      0.005      2.760      0.007       0.004       0.026\n",
       "x4             0.0135      0.004      3.474      0.001       0.006       0.021\n",
       "x5             0.0037      0.002      1.951      0.055   -8.29e-05       0.007\n",
       "x6             0.0139      0.003      5.305      0.000       0.009       0.019\n",
       "x7             0.0095      0.006      1.730      0.088      -0.001       0.020\n",
       "x8             0.0204      0.007      3.015      0.004       0.007       0.034\n",
       "==============================================================================\n",
       "Omnibus:                        2.591   Durbin-Watson:                   1.941\n",
       "Prob(Omnibus):                  0.274   Jarque-Bera (JB):                1.920\n",
       "Skew:                          -0.210   Prob(JB):                        0.383\n",
       "Kurtosis:                       2.356   Cond. No.                         758.\n",
       "==============================================================================\n",
       "\n",
       "Warnings:\n",
       "[1] Standard Errors assume that the covariance matrix of the errors is correctly specified.\n",
       "\"\"\""
      ]
     },
     "execution_count": 65,
     "metadata": {},
     "output_type": "execute_result"
    }
   ],
   "source": [
    "X_opt = X[:,[0,2,4,5,7,8,9,10,11]]\n",
    "regressor_OLS = sm.OLS(endog = Y, exog = X_opt).fit()\n",
    "regressor_OLS.summary()"
   ]
  },
  {
   "cell_type": "code",
   "execution_count": 66,
   "metadata": {},
   "outputs": [
    {
     "data": {
      "text/html": [
       "<table class=\"simpletable\">\n",
       "<caption>OLS Regression Results</caption>\n",
       "<tr>\n",
       "  <th>Dep. Variable:</th>            <td>y</td>        <th>  R-squared:         </th> <td>   0.948</td>\n",
       "</tr>\n",
       "<tr>\n",
       "  <th>Model:</th>                   <td>OLS</td>       <th>  Adj. R-squared:    </th> <td>   0.943</td>\n",
       "</tr>\n",
       "<tr>\n",
       "  <th>Method:</th>             <td>Least Squares</td>  <th>  F-statistic:       </th> <td>   183.7</td>\n",
       "</tr>\n",
       "<tr>\n",
       "  <th>Date:</th>             <td>Sun, 14 Apr 2019</td> <th>  Prob (F-statistic):</th> <td>1.93e-42</td>\n",
       "</tr>\n",
       "<tr>\n",
       "  <th>Time:</th>                 <td>19:33:17</td>     <th>  Log-Likelihood:    </th> <td> -29.053</td>\n",
       "</tr>\n",
       "<tr>\n",
       "  <th>No. Observations:</th>      <td>    78</td>      <th>  AIC:               </th> <td>   74.11</td>\n",
       "</tr>\n",
       "<tr>\n",
       "  <th>Df Residuals:</th>          <td>    70</td>      <th>  BIC:               </th> <td>   92.96</td>\n",
       "</tr>\n",
       "<tr>\n",
       "  <th>Df Model:</th>              <td>     7</td>      <th>                     </th>     <td> </td>   \n",
       "</tr>\n",
       "<tr>\n",
       "  <th>Covariance Type:</th>      <td>nonrobust</td>    <th>                     </th>     <td> </td>   \n",
       "</tr>\n",
       "</table>\n",
       "<table class=\"simpletable\">\n",
       "<tr>\n",
       "    <td></td>       <th>coef</th>     <th>std err</th>      <th>t</th>      <th>P>|t|</th>  <th>[0.025</th>    <th>0.975]</th>  \n",
       "</tr>\n",
       "<tr>\n",
       "  <th>const</th> <td>   -0.7817</td> <td>    0.185</td> <td>   -4.216</td> <td> 0.000</td> <td>   -1.152</td> <td>   -0.412</td>\n",
       "</tr>\n",
       "<tr>\n",
       "  <th>x1</th>    <td>    0.0081</td> <td>    0.003</td> <td>    2.909</td> <td> 0.005</td> <td>    0.003</td> <td>    0.014</td>\n",
       "</tr>\n",
       "<tr>\n",
       "  <th>x2</th>    <td>    0.0220</td> <td>    0.005</td> <td>    4.851</td> <td> 0.000</td> <td>    0.013</td> <td>    0.031</td>\n",
       "</tr>\n",
       "<tr>\n",
       "  <th>x3</th>    <td>    0.0144</td> <td>    0.005</td> <td>    2.639</td> <td> 0.010</td> <td>    0.004</td> <td>    0.025</td>\n",
       "</tr>\n",
       "<tr>\n",
       "  <th>x4</th>    <td>    0.0143</td> <td>    0.004</td> <td>    3.635</td> <td> 0.001</td> <td>    0.006</td> <td>    0.022</td>\n",
       "</tr>\n",
       "<tr>\n",
       "  <th>x5</th>    <td>    0.0032</td> <td>    0.002</td> <td>    1.685</td> <td> 0.096</td> <td>   -0.001</td> <td>    0.007</td>\n",
       "</tr>\n",
       "<tr>\n",
       "  <th>x6</th>    <td>    0.0134</td> <td>    0.003</td> <td>    5.068</td> <td> 0.000</td> <td>    0.008</td> <td>    0.019</td>\n",
       "</tr>\n",
       "<tr>\n",
       "  <th>x7</th>    <td>    0.0288</td> <td>    0.005</td> <td>    6.001</td> <td> 0.000</td> <td>    0.019</td> <td>    0.038</td>\n",
       "</tr>\n",
       "</table>\n",
       "<table class=\"simpletable\">\n",
       "<tr>\n",
       "  <th>Omnibus:</th>       <td> 2.067</td> <th>  Durbin-Watson:     </th> <td>   1.898</td>\n",
       "</tr>\n",
       "<tr>\n",
       "  <th>Prob(Omnibus):</th> <td> 0.356</td> <th>  Jarque-Bera (JB):  </th> <td>   1.750</td>\n",
       "</tr>\n",
       "<tr>\n",
       "  <th>Skew:</th>          <td>-0.230</td> <th>  Prob(JB):          </th> <td>   0.417</td>\n",
       "</tr>\n",
       "<tr>\n",
       "  <th>Kurtosis:</th>      <td> 2.428</td> <th>  Cond. No.          </th> <td>    661.</td>\n",
       "</tr>\n",
       "</table><br/><br/>Warnings:<br/>[1] Standard Errors assume that the covariance matrix of the errors is correctly specified."
      ],
      "text/plain": [
       "<class 'statsmodels.iolib.summary.Summary'>\n",
       "\"\"\"\n",
       "                            OLS Regression Results                            \n",
       "==============================================================================\n",
       "Dep. Variable:                      y   R-squared:                       0.948\n",
       "Model:                            OLS   Adj. R-squared:                  0.943\n",
       "Method:                 Least Squares   F-statistic:                     183.7\n",
       "Date:                Sun, 14 Apr 2019   Prob (F-statistic):           1.93e-42\n",
       "Time:                        19:33:17   Log-Likelihood:                -29.053\n",
       "No. Observations:                  78   AIC:                             74.11\n",
       "Df Residuals:                      70   BIC:                             92.96\n",
       "Df Model:                           7                                         \n",
       "Covariance Type:            nonrobust                                         \n",
       "==============================================================================\n",
       "                 coef    std err          t      P>|t|      [0.025      0.975]\n",
       "------------------------------------------------------------------------------\n",
       "const         -0.7817      0.185     -4.216      0.000      -1.152      -0.412\n",
       "x1             0.0081      0.003      2.909      0.005       0.003       0.014\n",
       "x2             0.0220      0.005      4.851      0.000       0.013       0.031\n",
       "x3             0.0144      0.005      2.639      0.010       0.004       0.025\n",
       "x4             0.0143      0.004      3.635      0.001       0.006       0.022\n",
       "x5             0.0032      0.002      1.685      0.096      -0.001       0.007\n",
       "x6             0.0134      0.003      5.068      0.000       0.008       0.019\n",
       "x7             0.0288      0.005      6.001      0.000       0.019       0.038\n",
       "==============================================================================\n",
       "Omnibus:                        2.067   Durbin-Watson:                   1.898\n",
       "Prob(Omnibus):                  0.356   Jarque-Bera (JB):                1.750\n",
       "Skew:                          -0.230   Prob(JB):                        0.417\n",
       "Kurtosis:                       2.428   Cond. No.                         661.\n",
       "==============================================================================\n",
       "\n",
       "Warnings:\n",
       "[1] Standard Errors assume that the covariance matrix of the errors is correctly specified.\n",
       "\"\"\""
      ]
     },
     "execution_count": 66,
     "metadata": {},
     "output_type": "execute_result"
    }
   ],
   "source": [
    "X_opt = X[:,[0,2,4,5,7,8,9,11]]\n",
    "regressor_OLS = sm.OLS(endog = Y, exog = X_opt).fit()\n",
    "regressor_OLS.summary()"
   ]
  },
  {
   "cell_type": "code",
   "execution_count": 67,
   "metadata": {},
   "outputs": [
    {
     "data": {
      "text/html": [
       "<table class=\"simpletable\">\n",
       "<caption>OLS Regression Results</caption>\n",
       "<tr>\n",
       "  <th>Dep. Variable:</th>            <td>y</td>        <th>  R-squared:         </th> <td>   0.939</td>\n",
       "</tr>\n",
       "<tr>\n",
       "  <th>Model:</th>                   <td>OLS</td>       <th>  Adj. R-squared:    </th> <td>   0.933</td>\n",
       "</tr>\n",
       "<tr>\n",
       "  <th>Method:</th>             <td>Least Squares</td>  <th>  F-statistic:       </th> <td>   181.0</td>\n",
       "</tr>\n",
       "<tr>\n",
       "  <th>Date:</th>             <td>Sun, 14 Apr 2019</td> <th>  Prob (F-statistic):</th> <td>5.67e-41</td>\n",
       "</tr>\n",
       "<tr>\n",
       "  <th>Time:</th>                 <td>19:33:17</td>     <th>  Log-Likelihood:    </th> <td> -35.795</td>\n",
       "</tr>\n",
       "<tr>\n",
       "  <th>No. Observations:</th>      <td>    78</td>      <th>  AIC:               </th> <td>   85.59</td>\n",
       "</tr>\n",
       "<tr>\n",
       "  <th>Df Residuals:</th>          <td>    71</td>      <th>  BIC:               </th> <td>   102.1</td>\n",
       "</tr>\n",
       "<tr>\n",
       "  <th>Df Model:</th>              <td>     6</td>      <th>                     </th>     <td> </td>   \n",
       "</tr>\n",
       "<tr>\n",
       "  <th>Covariance Type:</th>      <td>nonrobust</td>    <th>                     </th>     <td> </td>   \n",
       "</tr>\n",
       "</table>\n",
       "<table class=\"simpletable\">\n",
       "<tr>\n",
       "    <td></td>       <th>coef</th>     <th>std err</th>      <th>t</th>      <th>P>|t|</th>  <th>[0.025</th>    <th>0.975]</th>  \n",
       "</tr>\n",
       "<tr>\n",
       "  <th>const</th> <td>   -0.7185</td> <td>    0.200</td> <td>   -3.595</td> <td> 0.001</td> <td>   -1.117</td> <td>   -0.320</td>\n",
       "</tr>\n",
       "<tr>\n",
       "  <th>x1</th>    <td>    0.0126</td> <td>    0.003</td> <td>    4.634</td> <td> 0.000</td> <td>    0.007</td> <td>    0.018</td>\n",
       "</tr>\n",
       "<tr>\n",
       "  <th>x2</th>    <td>    0.0238</td> <td>    0.005</td> <td>    4.876</td> <td> 0.000</td> <td>    0.014</td> <td>    0.034</td>\n",
       "</tr>\n",
       "<tr>\n",
       "  <th>x3</th>    <td>    0.0163</td> <td>    0.006</td> <td>    2.762</td> <td> 0.007</td> <td>    0.005</td> <td>    0.028</td>\n",
       "</tr>\n",
       "<tr>\n",
       "  <th>x4</th>    <td>    0.0033</td> <td>    0.002</td> <td>    1.634</td> <td> 0.107</td> <td>   -0.001</td> <td>    0.007</td>\n",
       "</tr>\n",
       "<tr>\n",
       "  <th>x5</th>    <td>    0.0138</td> <td>    0.003</td> <td>    4.820</td> <td> 0.000</td> <td>    0.008</td> <td>    0.019</td>\n",
       "</tr>\n",
       "<tr>\n",
       "  <th>x6</th>    <td>    0.0302</td> <td>    0.005</td> <td>    5.845</td> <td> 0.000</td> <td>    0.020</td> <td>    0.041</td>\n",
       "</tr>\n",
       "</table>\n",
       "<table class=\"simpletable\">\n",
       "<tr>\n",
       "  <th>Omnibus:</th>       <td> 0.948</td> <th>  Durbin-Watson:     </th> <td>   2.067</td>\n",
       "</tr>\n",
       "<tr>\n",
       "  <th>Prob(Omnibus):</th> <td> 0.623</td> <th>  Jarque-Bera (JB):  </th> <td>   0.481</td>\n",
       "</tr>\n",
       "<tr>\n",
       "  <th>Skew:</th>          <td>-0.157</td> <th>  Prob(JB):          </th> <td>   0.786</td>\n",
       "</tr>\n",
       "<tr>\n",
       "  <th>Kurtosis:</th>      <td> 3.222</td> <th>  Cond. No.          </th> <td>    626.</td>\n",
       "</tr>\n",
       "</table><br/><br/>Warnings:<br/>[1] Standard Errors assume that the covariance matrix of the errors is correctly specified."
      ],
      "text/plain": [
       "<class 'statsmodels.iolib.summary.Summary'>\n",
       "\"\"\"\n",
       "                            OLS Regression Results                            \n",
       "==============================================================================\n",
       "Dep. Variable:                      y   R-squared:                       0.939\n",
       "Model:                            OLS   Adj. R-squared:                  0.933\n",
       "Method:                 Least Squares   F-statistic:                     181.0\n",
       "Date:                Sun, 14 Apr 2019   Prob (F-statistic):           5.67e-41\n",
       "Time:                        19:33:17   Log-Likelihood:                -35.795\n",
       "No. Observations:                  78   AIC:                             85.59\n",
       "Df Residuals:                      71   BIC:                             102.1\n",
       "Df Model:                           6                                         \n",
       "Covariance Type:            nonrobust                                         \n",
       "==============================================================================\n",
       "                 coef    std err          t      P>|t|      [0.025      0.975]\n",
       "------------------------------------------------------------------------------\n",
       "const         -0.7185      0.200     -3.595      0.001      -1.117      -0.320\n",
       "x1             0.0126      0.003      4.634      0.000       0.007       0.018\n",
       "x2             0.0238      0.005      4.876      0.000       0.014       0.034\n",
       "x3             0.0163      0.006      2.762      0.007       0.005       0.028\n",
       "x4             0.0033      0.002      1.634      0.107      -0.001       0.007\n",
       "x5             0.0138      0.003      4.820      0.000       0.008       0.019\n",
       "x6             0.0302      0.005      5.845      0.000       0.020       0.041\n",
       "==============================================================================\n",
       "Omnibus:                        0.948   Durbin-Watson:                   2.067\n",
       "Prob(Omnibus):                  0.623   Jarque-Bera (JB):                0.481\n",
       "Skew:                          -0.157   Prob(JB):                        0.786\n",
       "Kurtosis:                       3.222   Cond. No.                         626.\n",
       "==============================================================================\n",
       "\n",
       "Warnings:\n",
       "[1] Standard Errors assume that the covariance matrix of the errors is correctly specified.\n",
       "\"\"\""
      ]
     },
     "execution_count": 67,
     "metadata": {},
     "output_type": "execute_result"
    }
   ],
   "source": [
    "X_opt = X[:,[0,2,4,5,8,9,11]]\n",
    "regressor_OLS = sm.OLS(endog = Y, exog = X_opt).fit()\n",
    "regressor_OLS.summary()"
   ]
  },
  {
   "cell_type": "code",
   "execution_count": 68,
   "metadata": {},
   "outputs": [
    {
     "data": {
      "text/html": [
       "<table class=\"simpletable\">\n",
       "<caption>OLS Regression Results</caption>\n",
       "<tr>\n",
       "  <th>Dep. Variable:</th>            <td>y</td>        <th>  R-squared:         </th> <td>   0.936</td>\n",
       "</tr>\n",
       "<tr>\n",
       "  <th>Model:</th>                   <td>OLS</td>       <th>  Adj. R-squared:    </th> <td>   0.932</td>\n",
       "</tr>\n",
       "<tr>\n",
       "  <th>Method:</th>             <td>Least Squares</td>  <th>  F-statistic:       </th> <td>   211.8</td>\n",
       "</tr>\n",
       "<tr>\n",
       "  <th>Date:</th>             <td>Sun, 14 Apr 2019</td> <th>  Prob (F-statistic):</th> <td>1.36e-41</td>\n",
       "</tr>\n",
       "<tr>\n",
       "  <th>Time:</th>                 <td>19:33:18</td>     <th>  Log-Likelihood:    </th> <td> -37.235</td>\n",
       "</tr>\n",
       "<tr>\n",
       "  <th>No. Observations:</th>      <td>    78</td>      <th>  AIC:               </th> <td>   86.47</td>\n",
       "</tr>\n",
       "<tr>\n",
       "  <th>Df Residuals:</th>          <td>    72</td>      <th>  BIC:               </th> <td>   100.6</td>\n",
       "</tr>\n",
       "<tr>\n",
       "  <th>Df Model:</th>              <td>     5</td>      <th>                     </th>     <td> </td>   \n",
       "</tr>\n",
       "<tr>\n",
       "  <th>Covariance Type:</th>      <td>nonrobust</td>    <th>                     </th>     <td> </td>   \n",
       "</tr>\n",
       "</table>\n",
       "<table class=\"simpletable\">\n",
       "<tr>\n",
       "    <td></td>       <th>coef</th>     <th>std err</th>      <th>t</th>      <th>P>|t|</th>  <th>[0.025</th>    <th>0.975]</th>  \n",
       "</tr>\n",
       "<tr>\n",
       "  <th>const</th> <td>   -0.6639</td> <td>    0.199</td> <td>   -3.331</td> <td> 0.001</td> <td>   -1.061</td> <td>   -0.267</td>\n",
       "</tr>\n",
       "<tr>\n",
       "  <th>x1</th>    <td>    0.0133</td> <td>    0.003</td> <td>    4.919</td> <td> 0.000</td> <td>    0.008</td> <td>    0.019</td>\n",
       "</tr>\n",
       "<tr>\n",
       "  <th>x2</th>    <td>    0.0237</td> <td>    0.005</td> <td>    4.802</td> <td> 0.000</td> <td>    0.014</td> <td>    0.034</td>\n",
       "</tr>\n",
       "<tr>\n",
       "  <th>x3</th>    <td>    0.0168</td> <td>    0.006</td> <td>    2.818</td> <td> 0.006</td> <td>    0.005</td> <td>    0.029</td>\n",
       "</tr>\n",
       "<tr>\n",
       "  <th>x4</th>    <td>    0.0153</td> <td>    0.003</td> <td>    5.581</td> <td> 0.000</td> <td>    0.010</td> <td>    0.021</td>\n",
       "</tr>\n",
       "<tr>\n",
       "  <th>x5</th>    <td>    0.0309</td> <td>    0.005</td> <td>    5.932</td> <td> 0.000</td> <td>    0.021</td> <td>    0.041</td>\n",
       "</tr>\n",
       "</table>\n",
       "<table class=\"simpletable\">\n",
       "<tr>\n",
       "  <th>Omnibus:</th>       <td> 2.375</td> <th>  Durbin-Watson:     </th> <td>   2.017</td>\n",
       "</tr>\n",
       "<tr>\n",
       "  <th>Prob(Omnibus):</th> <td> 0.305</td> <th>  Jarque-Bera (JB):  </th> <td>   1.674</td>\n",
       "</tr>\n",
       "<tr>\n",
       "  <th>Skew:</th>          <td>-0.241</td> <th>  Prob(JB):          </th> <td>   0.433</td>\n",
       "</tr>\n",
       "<tr>\n",
       "  <th>Kurtosis:</th>      <td> 3.532</td> <th>  Cond. No.          </th> <td>    538.</td>\n",
       "</tr>\n",
       "</table><br/><br/>Warnings:<br/>[1] Standard Errors assume that the covariance matrix of the errors is correctly specified."
      ],
      "text/plain": [
       "<class 'statsmodels.iolib.summary.Summary'>\n",
       "\"\"\"\n",
       "                            OLS Regression Results                            \n",
       "==============================================================================\n",
       "Dep. Variable:                      y   R-squared:                       0.936\n",
       "Model:                            OLS   Adj. R-squared:                  0.932\n",
       "Method:                 Least Squares   F-statistic:                     211.8\n",
       "Date:                Sun, 14 Apr 2019   Prob (F-statistic):           1.36e-41\n",
       "Time:                        19:33:18   Log-Likelihood:                -37.235\n",
       "No. Observations:                  78   AIC:                             86.47\n",
       "Df Residuals:                      72   BIC:                             100.6\n",
       "Df Model:                           5                                         \n",
       "Covariance Type:            nonrobust                                         \n",
       "==============================================================================\n",
       "                 coef    std err          t      P>|t|      [0.025      0.975]\n",
       "------------------------------------------------------------------------------\n",
       "const         -0.6639      0.199     -3.331      0.001      -1.061      -0.267\n",
       "x1             0.0133      0.003      4.919      0.000       0.008       0.019\n",
       "x2             0.0237      0.005      4.802      0.000       0.014       0.034\n",
       "x3             0.0168      0.006      2.818      0.006       0.005       0.029\n",
       "x4             0.0153      0.003      5.581      0.000       0.010       0.021\n",
       "x5             0.0309      0.005      5.932      0.000       0.021       0.041\n",
       "==============================================================================\n",
       "Omnibus:                        2.375   Durbin-Watson:                   2.017\n",
       "Prob(Omnibus):                  0.305   Jarque-Bera (JB):                1.674\n",
       "Skew:                          -0.241   Prob(JB):                        0.433\n",
       "Kurtosis:                       3.532   Cond. No.                         538.\n",
       "==============================================================================\n",
       "\n",
       "Warnings:\n",
       "[1] Standard Errors assume that the covariance matrix of the errors is correctly specified.\n",
       "\"\"\""
      ]
     },
     "execution_count": 68,
     "metadata": {},
     "output_type": "execute_result"
    }
   ],
   "source": [
    "X_opt = X[:,[0,2,4,5,9,11]]\n",
    "regressor_OLS = sm.OLS(endog = Y, exog = X_opt).fit()\n",
    "regressor_OLS.summary()"
   ]
  }
 ],
 "metadata": {
  "kernelspec": {
   "display_name": "Python 3",
   "language": "python",
   "name": "python3"
  },
  "language_info": {
   "codemirror_mode": {
    "name": "ipython",
    "version": 3
   },
   "file_extension": ".py",
   "mimetype": "text/x-python",
   "name": "python",
   "nbconvert_exporter": "python",
   "pygments_lexer": "ipython3",
   "version": "3.7.1"
  }
 },
 "nbformat": 4,
 "nbformat_minor": 2
}
